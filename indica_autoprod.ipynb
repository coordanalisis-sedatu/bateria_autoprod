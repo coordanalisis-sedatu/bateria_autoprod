{
  "cells": [
    {
      "cell_type": "markdown",
      "metadata": {
        "id": "view-in-github",
        "colab_type": "text"
      },
      "source": [
        "<a href=\"https://colab.research.google.com/github/coordanalisis-sedatu/bateria_autoprod/blob/main/indica_autoprod.ipynb\" target=\"_parent\"><img src=\"https://colab.research.google.com/assets/colab-badge.svg\" alt=\"Open In Colab\"/></a>"
      ]
    },
    {
      "cell_type": "code",
      "execution_count": null,
      "metadata": {
        "id": "w7I0pvoW2Qea"
      },
      "outputs": [],
      "source": [
        "#Borrar los datos del entorno\n",
        "rm(list=ls())"
      ]
    },
    {
      "cell_type": "code",
      "execution_count": null,
      "metadata": {
        "colab": {
          "base_uri": "https://localhost:8080/"
        },
        "id": "I7bmPNwsYyWF",
        "outputId": "1a697c74-7003-4bf9-cf6c-e833f13d5184"
      },
      "outputs": [
        {
          "output_type": "stream",
          "name": "stderr",
          "text": [
            "Loading required package: pacman\n",
            "\n",
            "Warning message in library(package, lib.loc = lib.loc, character.only = TRUE, logical.return = TRUE, :\n",
            "“there is no package called ‘pacman’”\n",
            "Installing package into ‘/usr/local/lib/R/site-library’\n",
            "(as ‘lib’ is unspecified)\n",
            "\n",
            "Installing package into ‘/usr/local/lib/R/site-library’\n",
            "(as ‘lib’ is unspecified)\n",
            "\n",
            "also installing the dependencies ‘Rcpp’, ‘minqa’, ‘numDeriv’, ‘mitools’, ‘survey’\n",
            "\n",
            "\n",
            "\n",
            "srvyr installed\n",
            "\n",
            "Installing package into ‘/usr/local/lib/R/site-library’\n",
            "(as ‘lib’ is unspecified)\n",
            "\n",
            "also installing the dependency ‘snakecase’\n",
            "\n",
            "\n",
            "\n",
            "janitor installed\n",
            "\n",
            "Installing package into ‘/usr/local/lib/R/site-library’\n",
            "(as ‘lib’ is unspecified)\n",
            "\n",
            "\n",
            "openxlsx installed\n",
            "\n"
          ]
        }
      ],
      "source": [
        "# Librerías\n",
        "if (!require('pacman')) install.packages('pacman')\n",
        "pacman::p_load(tidyverse, srvyr, janitor, openxlsx)"
      ]
    },
    {
      "cell_type": "code",
      "execution_count": null,
      "metadata": {
        "colab": {
          "base_uri": "https://localhost:8080/",
          "height": 34
        },
        "id": "wIcN-11VV5vN",
        "outputId": "a47bbcc8-d5d0-4e49-d606-69fc95cad07f"
      },
      "outputs": [
        {
          "output_type": "display_data",
          "data": {
            "text/html": [
              "60"
            ],
            "text/markdown": "60",
            "text/latex": "60",
            "text/plain": [
              "[1] 60"
            ]
          },
          "metadata": {}
        }
      ],
      "source": [
        "# Ver el timeout predeterminado\n",
        "getOption('timeout')"
      ]
    },
    {
      "cell_type": "code",
      "execution_count": null,
      "metadata": {
        "id": "xx_LidqKV9T0"
      },
      "outputs": [],
      "source": [
        "# Cambiar el timeout predeterminado\n",
        "options(timeout=10000)\n"
      ]
    },
    {
      "cell_type": "code",
      "execution_count": null,
      "metadata": {
        "id": "xCRb4wDcWkdV"
      },
      "outputs": [],
      "source": [
        "# Función para descargar y descomprimir un archivo con timeout\n",
        "download_and_unzip <- function(url, destination) {\n",
        "  tryCatch({\n",
        "    # Descargar el archivo con timeout\n",
        "    download.file(url, destfile = paste0(destination, \"/\", basename(url)), mode = \"wb\", timeout = 10000)\n",
        "\n",
        "    # Descomprimir el archivo\n",
        "    unzip(paste0(destination, \"/\", basename(url)), exdir = destination)\n",
        "\n",
        "    # Eliminar el archivo comprimido después de descomprimirlo\n",
        "    unlink(paste0(destination, \"/\", basename(url)))\n",
        "\n",
        "    message(paste(\"Descarga y descompresión exitosas para\", basename(url)))\n",
        "  }, error = function(e) {\n",
        "    warning(paste(\"Error al descargar o descomprimir\", basename(url), \":\", conditionMessage(e)))\n",
        "  })\n",
        "}"
      ]
    },
    {
      "cell_type": "code",
      "execution_count": null,
      "metadata": {
        "id": "8V-t5EvSjmVv",
        "colab": {
          "base_uri": "https://localhost:8080/"
        },
        "outputId": "4c3d78e9-4774-41dc-d95d-710700977e68"
      },
      "outputs": [
        {
          "output_type": "stream",
          "name": "stderr",
          "text": [
            "Descarga y descompresión exitosas para R_MMP_2022.zip\n",
            "\n",
            "Descarga y descompresión exitosas para enigh2022_ns_viviendas_csv.zip\n",
            "\n",
            "Descarga y descompresión exitosas para enigh2022_ns_concentradohogar_csv.zip\n",
            "\n"
          ]
        }
      ],
      "source": [
        "# URLs para descargar\n",
        "urls <- c(\n",
        "  \"https://www.coneval.org.mx/Medicion/MP/Documents/MMP_2022/Programas_calculo/R_MMP_2022.zip\",\n",
        "  \"https://www.inegi.org.mx/contenidos/programas/enigh/nc/2022/microdatos/enigh2022_ns_viviendas_csv.zip\",\n",
        "  \"https://www.inegi.org.mx/contenidos/programas/enigh/nc/2022/microdatos/enigh2022_ns_concentradohogar_csv.zip\"\n",
        ")\n",
        "\n",
        "# Carpeta de destino\n",
        "destination <- \"microdatos\"\n",
        "\n",
        "# Recorrer las URLs y descargar/descomprimir\n",
        "for (url in urls) {\n",
        "  download_and_unzip(url, destination)\n",
        "}"
      ]
    },
    {
      "cell_type": "code",
      "execution_count": null,
      "metadata": {
        "colab": {
          "base_uri": "https://localhost:8080/"
        },
        "id": "iQJTrmAkrfsj",
        "outputId": "c8f6b045-1cfe-44b9-f8c0-c124183714d8"
      },
      "outputs": [
        {
          "output_type": "stream",
          "name": "stderr",
          "text": [
            "\u001b[1mRows: \u001b[22m\u001b[34m309534\u001b[39m \u001b[1mColumns: \u001b[22m\u001b[34m79\u001b[39m\n",
            "\u001b[36m──\u001b[39m \u001b[1mColumn specification\u001b[22m \u001b[36m────────────────────────────────────────────────────────\u001b[39m\n",
            "\u001b[1mDelimiter:\u001b[22m \",\"\n",
            "\u001b[31mchr\u001b[39m  (1): folioviv\n",
            "\u001b[32mdbl\u001b[39m (78): foliohog, numren, est_dis, upm, factor, tam_loc, rururb, ent, ubic...\n",
            "\n",
            "\u001b[36mℹ\u001b[39m Use `spec()` to retrieve the full column specification for this data.\n",
            "\u001b[36mℹ\u001b[39m Specify the column types or set `show_col_types = FALSE` to quiet this message.\n"
          ]
        }
      ],
      "source": [
        "pobreza <- readr::read_csv(\"microdatos/Base final/pobreza_22.csv\") %>%\n",
        "  janitor::clean_names()"
      ]
    },
    {
      "cell_type": "code",
      "execution_count": null,
      "metadata": {
        "colab": {
          "base_uri": "https://localhost:8080/"
        },
        "id": "ywe26PHrxjfn",
        "outputId": "311bd167-0f49-4219-c972-8ea5b9ff2791"
      },
      "outputs": [
        {
          "output_type": "stream",
          "name": "stderr",
          "text": [
            "\u001b[1mRows: \u001b[22m\u001b[34m90102\u001b[39m \u001b[1mColumns: \u001b[22m\u001b[34m126\u001b[39m\n",
            "\u001b[36m──\u001b[39m \u001b[1mColumn specification\u001b[22m \u001b[36m────────────────────────────────────────────────────────\u001b[39m\n",
            "\u001b[1mDelimiter:\u001b[22m \",\"\n",
            "\u001b[31mchr\u001b[39m   (5): folioviv, ubica_geo, est_dis, upm, educa_jefe\n",
            "\u001b[32mdbl\u001b[39m (121): foliohog, tam_loc, est_socio, factor, clase_hog, sexo_jefe, edad_...\n",
            "\n",
            "\u001b[36mℹ\u001b[39m Use `spec()` to retrieve the full column specification for this data.\n",
            "\u001b[36mℹ\u001b[39m Specify the column types or set `show_col_types = FALSE` to quiet this message.\n"
          ]
        }
      ],
      "source": [
        "concentrado <- readr::read_csv(\"microdatos/concentradohogar.csv\") %>%\n",
        "  janitor::clean_names()"
      ]
    },
    {
      "cell_type": "code",
      "execution_count": null,
      "metadata": {
        "colab": {
          "base_uri": "https://localhost:8080/"
        },
        "id": "lMOETfVR9SXH",
        "outputId": "e9719df4-cd96-4b38-a3d0-87bca0e19000"
      },
      "outputs": [
        {
          "output_type": "stream",
          "name": "stderr",
          "text": [
            "Warning message:\n",
            "“\u001b[1m\u001b[22mThere was 1 warning in `mutate()`.\n",
            "\u001b[1m\u001b[22m\u001b[36mℹ\u001b[39m In argument: `mat_pisos = as.numeric(mat_pisos)`.\n",
            "Caused by warning:\n",
            "\u001b[33m!\u001b[39m NAs introduced by coercion”\n"
          ]
        }
      ],
      "source": [
        "# Carga y limpia el conjunto de datos de viviendas\n",
        "viviendas <- read.csv(\"microdatos/viviendas.csv\") %>%\n",
        "  janitor::clean_names() %>%  #Poner las variables en minusculas y quitar las variables\n",
        "  mutate(\n",
        "    mat_pared = as.numeric(mat_pared),\n",
        "    mat_pisos = as.numeric(mat_pisos),\n",
        "    mat_techos = as.numeric(mat_techos),\n",
        "    rezago = case_when(\n",
        "      (tot_resid / num_cuarto) > 2.5 |   # Hacinamiento\n",
        "        mat_pared %in% c(1, 2, 3, 4, 5, 6) |\n",
        "        mat_pisos %in% c(1) |\n",
        "        mat_techos %in% c(1, 2, 3, 4, 6, 7, 9) |\n",
        "        excusado == 2 ~ \"En rezago\",\n",
        "      TRUE ~ \"Fuera de rezago\"\n",
        "    ),\n",
        "    vivi_autoprod = case_when(\n",
        "      (tenencia %in% c(3, 4) & tipo_adqui %in% c(2, 3)) ~ \"Sí\",\n",
        "      TRUE ~ \"No\"\n",
        "    ),\n",
        "    hacinamiento = tot_resid / num_cuarto,\n",
        "    hacinamiento = ifelse(hacinamiento > 2.5, 1, 0),\n",
        "    folioviv = as.character(folioviv),\n",
        "    # Clave de entidad federativa\n",
        "    cve_ent = case_when(\n",
        "      nchar(folioviv) == 10 ~ as.character(substr(folioviv, 1, 2)), #1 y 2 clave de Entidad Federativa\n",
        "      nchar(folioviv) == 9 ~ as.character(paste0(\"0\", substr(folioviv, 1, 1))),\n",
        "      TRUE ~ as.character(folioviv)\n",
        "    ),\n",
        "    # Variable para obtener el total de residentes que se encuentran en viviendas autoproducidas.\n",
        "      tot_resid_autoprod = case_when(\n",
        "      vivi_autoprod == \"Sí\" ~ tot_resid,\n",
        "      TRUE ~ 0\n",
        "    ),\n",
        "    # Variable para obtener el total de hogares que se encuentran en viviendas autoproducidas.\n",
        "    tot_hog_autoprod = case_when(\n",
        "      vivi_autoprod == \"Sí\" ~ tot_hog,\n",
        "      TRUE ~ 0\n",
        "    ),\n",
        "    # Nombre de cada entidad\n",
        "    nom_ent = case_when(\n",
        "      cve_ent == \"01\" ~ \"Aguascalientes\",\n",
        "      cve_ent == \"02\" ~ \"Baja California\",\n",
        "      cve_ent == \"03\" ~ \"Baja California Sur\",\n",
        "      cve_ent == \"04\" ~ \"Campeche\",\n",
        "      cve_ent == \"05\" ~ \"Coahuila de Zaragoza\",\n",
        "      cve_ent == \"06\" ~ \"Colima\",\n",
        "      cve_ent == \"07\" ~ \"Chiapas\",\n",
        "      cve_ent == \"08\" ~ \"Chihuahua\",\n",
        "      cve_ent == \"09\" ~ \"Ciudad de México\",\n",
        "      cve_ent == \"10\" ~ \"Durango\",\n",
        "      cve_ent == \"11\" ~ \"Guanajuato\",\n",
        "      cve_ent == \"12\" ~ \"Guerrero\",\n",
        "      cve_ent == \"13\" ~ \"Hidalgo\",\n",
        "      cve_ent == \"14\" ~ \"Jalisco\",\n",
        "      cve_ent == \"15\" ~ \"México\",\n",
        "      cve_ent == \"16\" ~ \"Michoacán de Ocampo\",\n",
        "      cve_ent == \"17\" ~ \"Morelos\",\n",
        "      cve_ent == \"18\" ~ \"Nayarit\",\n",
        "      cve_ent == \"19\" ~ \"Nuevo León\",\n",
        "      cve_ent == \"20\" ~ \"Oaxaca\",\n",
        "      cve_ent == \"21\" ~ \"Puebla\",\n",
        "      cve_ent == \"22\" ~ \"Querétaro\",\n",
        "      cve_ent == \"23\" ~ \"Quintana Roo\",\n",
        "      cve_ent == \"24\" ~ \"San Luis Potosí\",\n",
        "      cve_ent == \"25\" ~ \"Sinaloa\",\n",
        "      cve_ent == \"26\" ~ \"Sonora\",\n",
        "      cve_ent == \"27\" ~ \"Tabasco\",\n",
        "      cve_ent == \"28\" ~ \"Tamaulipas\",\n",
        "      cve_ent == \"29\" ~ \"Tlaxcala\",\n",
        "      cve_ent == \"30\" ~ \"Veracruz de Ignacio de la Llave\",\n",
        "      cve_ent == \"31\" ~ \"Yucatán\",\n",
        "      cve_ent == \"32\" ~ \"Zacatecas\",\n",
        "      TRUE ~ \"No identificado\"\n",
        "    )\n",
        "  )"
      ]
    },
    {
      "cell_type": "code",
      "source": [
        "#Num. de observaciones pobreza\n",
        "obs_pobreza <- nrow(pobreza)\n",
        "obs_pobreza"
      ],
      "metadata": {
        "colab": {
          "base_uri": "https://localhost:8080/",
          "height": 34
        },
        "id": "1RCSOeJi-xAe",
        "outputId": "bb6318ff-42cd-43ba-e3e2-1cc207e9d215"
      },
      "execution_count": null,
      "outputs": [
        {
          "output_type": "display_data",
          "data": {
            "text/html": [
              "309534"
            ],
            "text/markdown": "309534",
            "text/latex": "309534",
            "text/plain": [
              "[1] 309534"
            ]
          },
          "metadata": {}
        }
      ]
    },
    {
      "cell_type": "code",
      "source": [
        "#Num. de observaciones concentrado\n",
        "obs_concentrado <- nrow(concentrado)\n",
        "obs_concentrado"
      ],
      "metadata": {
        "colab": {
          "base_uri": "https://localhost:8080/",
          "height": 34
        },
        "id": "Q_3U46O2-0hv",
        "outputId": "7936be88-689a-4209-a1bf-6a33bc934fe1"
      },
      "execution_count": null,
      "outputs": [
        {
          "output_type": "display_data",
          "data": {
            "text/html": [
              "90102"
            ],
            "text/markdown": "90102",
            "text/latex": "90102",
            "text/plain": [
              "[1] 90102"
            ]
          },
          "metadata": {}
        }
      ]
    },
    {
      "cell_type": "code",
      "source": [
        "#Num. de observaciones viviendas\n",
        "obs_viviendas <- nrow(viviendas)\n",
        "obs_viviendas"
      ],
      "metadata": {
        "colab": {
          "base_uri": "https://localhost:8080/",
          "height": 34
        },
        "id": "i28-jStk-60V",
        "outputId": "a02c30c7-5401-41e2-f83c-dcc1aead0f85"
      },
      "execution_count": null,
      "outputs": [
        {
          "output_type": "display_data",
          "data": {
            "text/html": [
              "88823"
            ],
            "text/markdown": "88823",
            "text/latex": "88823",
            "text/plain": [
              "[1] 88823"
            ]
          },
          "metadata": {}
        }
      ]
    },
    {
      "cell_type": "code",
      "source": [
        "viviendas <- viviendas %>%\n",
        "  # Realiza un join con el conjunto de datos 'concentrado'\n",
        "  left_join(\n",
        "    concentrado %>%\n",
        "      group_by(folioviv) %>%\n",
        "      filter(row_number() == 1) %>%\n",
        "      select(folioviv, sexo_jefe, clase_hog, ing_cor),\n",
        "    by = \"folioviv\"\n",
        "  )"
      ],
      "metadata": {
        "id": "SUk3U180bgN9"
      },
      "execution_count": null,
      "outputs": []
    },
    {
      "cell_type": "code",
      "source": [
        "viviendas <- viviendas %>%\n",
        "  # Realiza un join con el conjunto de datos 'pobreza'\n",
        "  left_join(\n",
        "    pobreza %>%\n",
        "      group_by(folioviv) %>%\n",
        "      filter(row_number() == 1) %>%\n",
        "      select(folioviv, pobreza, pobreza_e, ic_sbv),\n",
        "    by = \"folioviv\"\n",
        "  )"
      ],
      "metadata": {
        "id": "qMI3RHjvhBzc"
      },
      "execution_count": null,
      "outputs": []
    },
    {
      "cell_type": "code",
      "execution_count": null,
      "metadata": {
        "id": "NpZ4yFeIHjuv"
      },
      "outputs": [],
      "source": [
        "viviendas<-viviendas%>%\n",
        "  mutate(largo=nchar(cve_ent))"
      ]
    },
    {
      "cell_type": "code",
      "execution_count": null,
      "metadata": {
        "colab": {
          "base_uri": "https://localhost:8080/",
          "height": 53
        },
        "id": "kX155mlcHrHB",
        "outputId": "0e848292-4660-4cb8-f0b0-f7eea5df2abb"
      },
      "outputs": [
        {
          "output_type": "display_data",
          "data": {
            "text/plain": [
              "   Length     Class      Mode \n",
              "    88823 character character "
            ]
          },
          "metadata": {}
        }
      ],
      "source": [
        "summary(viviendas$cve_ent)"
      ]
    },
    {
      "cell_type": "code",
      "execution_count": null,
      "metadata": {
        "colab": {
          "base_uri": "https://localhost:8080/",
          "height": 69
        },
        "id": "4jWr4BsB2WHz",
        "outputId": "b4ece11b-2a7e-4f0f-ff66-6ed20f904b86"
      },
      "outputs": [
        {
          "output_type": "display_data",
          "data": {
            "text/html": [
              "<style>\n",
              ".list-inline {list-style: none; margin:0; padding: 0}\n",
              ".list-inline>li {display: inline-block}\n",
              ".list-inline>li:not(:last-child)::after {content: \"\\00b7\"; padding: 0 .5ex}\n",
              "</style>\n",
              "<ol class=list-inline><li>'Aguascalientes'</li><li>'Baja California'</li><li>'Baja California Sur'</li><li>'Campeche'</li><li>'Coahuila de Zaragoza'</li><li>'Colima'</li><li>'Chiapas'</li><li>'Chihuahua'</li><li>'Ciudad de México'</li><li>'Durango'</li><li>'Guanajuato'</li><li>'Guerrero'</li><li>'Hidalgo'</li><li>'Jalisco'</li><li>'México'</li><li>'Michoacán de Ocampo'</li><li>'Morelos'</li><li>'Nayarit'</li><li>'Nuevo León'</li><li>'Oaxaca'</li><li>'Puebla'</li><li>'Querétaro'</li><li>'Quintana Roo'</li><li>'San Luis Potosí'</li><li>'Sinaloa'</li><li>'Sonora'</li><li>'Tabasco'</li><li>'Tamaulipas'</li><li>'Tlaxcala'</li><li>'Veracruz de Ignacio de la Llave'</li><li>'Yucatán'</li><li>'Zacatecas'</li></ol>\n"
            ],
            "text/markdown": "1. 'Aguascalientes'\n2. 'Baja California'\n3. 'Baja California Sur'\n4. 'Campeche'\n5. 'Coahuila de Zaragoza'\n6. 'Colima'\n7. 'Chiapas'\n8. 'Chihuahua'\n9. 'Ciudad de México'\n10. 'Durango'\n11. 'Guanajuato'\n12. 'Guerrero'\n13. 'Hidalgo'\n14. 'Jalisco'\n15. 'México'\n16. 'Michoacán de Ocampo'\n17. 'Morelos'\n18. 'Nayarit'\n19. 'Nuevo León'\n20. 'Oaxaca'\n21. 'Puebla'\n22. 'Querétaro'\n23. 'Quintana Roo'\n24. 'San Luis Potosí'\n25. 'Sinaloa'\n26. 'Sonora'\n27. 'Tabasco'\n28. 'Tamaulipas'\n29. 'Tlaxcala'\n30. 'Veracruz de Ignacio de la Llave'\n31. 'Yucatán'\n32. 'Zacatecas'\n\n\n",
            "text/latex": "\\begin{enumerate*}\n\\item 'Aguascalientes'\n\\item 'Baja California'\n\\item 'Baja California Sur'\n\\item 'Campeche'\n\\item 'Coahuila de Zaragoza'\n\\item 'Colima'\n\\item 'Chiapas'\n\\item 'Chihuahua'\n\\item 'Ciudad de México'\n\\item 'Durango'\n\\item 'Guanajuato'\n\\item 'Guerrero'\n\\item 'Hidalgo'\n\\item 'Jalisco'\n\\item 'México'\n\\item 'Michoacán de Ocampo'\n\\item 'Morelos'\n\\item 'Nayarit'\n\\item 'Nuevo León'\n\\item 'Oaxaca'\n\\item 'Puebla'\n\\item 'Querétaro'\n\\item 'Quintana Roo'\n\\item 'San Luis Potosí'\n\\item 'Sinaloa'\n\\item 'Sonora'\n\\item 'Tabasco'\n\\item 'Tamaulipas'\n\\item 'Tlaxcala'\n\\item 'Veracruz de Ignacio de la Llave'\n\\item 'Yucatán'\n\\item 'Zacatecas'\n\\end{enumerate*}\n",
            "text/plain": [
              " [1] \"Aguascalientes\"                  \"Baja California\"                \n",
              " [3] \"Baja California Sur\"             \"Campeche\"                       \n",
              " [5] \"Coahuila de Zaragoza\"            \"Colima\"                         \n",
              " [7] \"Chiapas\"                         \"Chihuahua\"                      \n",
              " [9] \"Ciudad de México\"                \"Durango\"                        \n",
              "[11] \"Guanajuato\"                      \"Guerrero\"                       \n",
              "[13] \"Hidalgo\"                         \"Jalisco\"                        \n",
              "[15] \"México\"                          \"Michoacán de Ocampo\"            \n",
              "[17] \"Morelos\"                         \"Nayarit\"                        \n",
              "[19] \"Nuevo León\"                      \"Oaxaca\"                         \n",
              "[21] \"Puebla\"                          \"Querétaro\"                      \n",
              "[23] \"Quintana Roo\"                    \"San Luis Potosí\"                \n",
              "[25] \"Sinaloa\"                         \"Sonora\"                         \n",
              "[27] \"Tabasco\"                         \"Tamaulipas\"                     \n",
              "[29] \"Tlaxcala\"                        \"Veracruz de Ignacio de la Llave\"\n",
              "[31] \"Yucatán\"                         \"Zacatecas\"                      "
            ]
          },
          "metadata": {}
        }
      ],
      "source": [
        "unique(viviendas$nom_ent)"
      ]
    },
    {
      "cell_type": "code",
      "execution_count": null,
      "metadata": {
        "id": "HW251zGkaS3z"
      },
      "outputs": [],
      "source": [
        "summarize_data <- function(data, grouping_vars, filter_expr = NULL) {\n",
        "\n",
        "  data %>%\n",
        "    filter(!!filter_expr) %>%\n",
        "    group_by(!!!syms(grouping_vars)) %>%\n",
        "    summarise(\n",
        "      viviendas = survey_total(vartype = c(\"cv\", \"ci\")),\n",
        "      pct = survey_prop(vartype = c(\"cv\", \"ci\"))\n",
        "    ) %>%\n",
        "    janitor::adorn_totals(\"row\")\n",
        "}"
      ]
    },
    {
      "cell_type": "code",
      "execution_count": null,
      "metadata": {
        "colab": {
          "base_uri": "https://localhost:8080/"
        },
        "id": "0mNZ7JK-De0T",
        "outputId": "354a5a3f-2ef7-4502-8ef6-401f6f7cd40c"
      },
      "outputs": [
        {
          "output_type": "stream",
          "name": "stdout",
          "text": [
            "'data.frame':\t88823 obs. of  78 variables:\n",
            " $ folioviv          : chr  \"100005002\" \"100005003\" \"100005004\" \"100012002\" ...\n",
            " $ tipo_viv          : chr  \"1\" \"1\" \"1\" \"1\" ...\n",
            " $ mat_pared         : num  8 8 8 8 8 8 8 8 8 8 ...\n",
            " $ mat_techos        : num  10 10 10 10 10 10 10 10 10 10 ...\n",
            " $ mat_pisos         : num  3 3 3 3 3 3 3 3 3 3 ...\n",
            " $ antiguedad        : int  30 15 25 50 45 25 48 36 35 1 ...\n",
            " $ antigua_ne        : int  NA NA NA NA NA NA NA NA NA NA ...\n",
            " $ cocina            : int  1 1 1 1 1 1 1 1 1 1 ...\n",
            " $ cocina_dor        : int  2 2 2 2 2 2 2 2 2 2 ...\n",
            " $ cuart_dorm        : int  2 3 3 4 3 2 5 4 3 3 ...\n",
            " $ num_cuarto        : int  4 5 7 6 4 4 6 7 4 6 ...\n",
            " $ disp_agua         : int  1 1 1 1 1 1 1 1 1 1 ...\n",
            " $ dotac_agua        : int  1 1 1 1 1 2 1 1 1 1 ...\n",
            " $ excusado          : int  1 1 1 1 1 1 1 1 1 1 ...\n",
            " $ uso_compar        : int  2 2 2 2 2 2 2 2 2 2 ...\n",
            " $ sanit_agua        : int  1 1 1 1 1 1 1 1 1 1 ...\n",
            " $ biodigest         : int  2 2 2 2 2 2 2 2 2 2 ...\n",
            " $ bano_comp         : int  1 3 2 2 2 1 2 3 2 3 ...\n",
            " $ bano_excus        : int  0 1 1 0 1 0 0 2 1 1 ...\n",
            " $ bano_regad        : int  0 0 0 0 0 0 0 0 0 0 ...\n",
            " $ drenaje           : int  1 1 1 1 1 1 1 1 1 1 ...\n",
            " $ disp_elect        : int  1 1 1 1 1 1 1 1 1 1 ...\n",
            " $ focos_inca        : int  0 0 0 9 0 0 4 0 0 0 ...\n",
            " $ focos_ahor        : int  8 9 10 8 17 10 4 7 5 16 ...\n",
            " $ combustible       : chr  \"3\" \"4\" \"3\" \"4\" ...\n",
            " $ estufa_chi        : int  NA NA NA NA NA NA NA NA NA NA ...\n",
            " $ eli_basura        : int  3 3 3 3 3 3 3 3 3 3 ...\n",
            " $ tenencia          : int  4 1 4 4 4 1 4 4 4 4 ...\n",
            " $ renta             : int  NA 8500 NA NA NA 4800 NA NA NA NA ...\n",
            " $ estim_pago        : int  4000 NA 10000 5000 3000 NA 5000 6000 8000 8000 ...\n",
            " $ pago_viv          : int  NA NA NA NA NA NA NA NA NA NA ...\n",
            " $ pago_mesp         : int  NA 1 NA NA NA 1 NA NA NA NA ...\n",
            " $ tipo_adqui        : int  1 NA 1 1 1 NA 3 2 2 1 ...\n",
            " $ viv_usada         : int  2 NA 2 2 2 NA NA NA NA 1 ...\n",
            " $ tipo_finan        : chr  \"1\" \" \" \"5\" \"1\" ...\n",
            " $ num_dueno1        : int  1 NA 1 1 2 NA 1 1 2 1 ...\n",
            " $ hog_dueno1        : int  1 NA 1 1 1 NA 1 1 1 1 ...\n",
            " $ num_dueno2        : int  NA NA NA NA NA NA NA NA NA NA ...\n",
            " $ hog_dueno2        : int  NA NA NA NA NA NA NA NA NA NA ...\n",
            " $ escrituras        : int  1 NA 1 1 1 NA 1 1 1 1 ...\n",
            " $ lavadero          : int  2 1 1 1 2 1 2 1 1 1 ...\n",
            " $ fregadero         : int  1 1 1 1 1 1 1 1 1 1 ...\n",
            " $ regadera          : int  1 1 1 1 1 1 1 1 1 1 ...\n",
            " $ tinaco_azo        : int  1 1 1 1 1 1 1 1 1 1 ...\n",
            " $ cisterna          : int  1 1 1 1 1 1 1 1 1 1 ...\n",
            " $ pileta            : int  2 2 1 2 2 1 2 2 2 2 ...\n",
            " $ calent_sol        : int  1 1 1 1 2 1 1 1 1 1 ...\n",
            " $ calent_gas        : int  1 1 1 1 1 1 1 1 2 2 ...\n",
            " $ medidor_luz       : int  1 1 1 1 1 1 1 1 1 1 ...\n",
            " $ bomba_agua        : int  1 1 1 1 1 1 1 1 1 1 ...\n",
            " $ tanque_gas        : int  2 1 2 2 2 1 1 1 1 2 ...\n",
            " $ aire_acond        : int  2 2 2 2 2 2 2 2 2 1 ...\n",
            " $ calefacc          : int  2 2 2 2 2 2 2 2 2 2 ...\n",
            " $ tot_resid         : int  3 2 3 5 4 4 1 3 2 5 ...\n",
            " $ tot_hom           : int  0 1 2 3 2 2 0 1 1 1 ...\n",
            " $ tot_muj           : int  3 1 1 2 2 2 1 2 1 4 ...\n",
            " $ tot_hog           : int  1 1 1 2 1 1 1 1 1 1 ...\n",
            " $ ubica_geo         : int  1001 1001 1001 1001 1001 1001 1001 1001 1001 1001 ...\n",
            " $ tam_loc           : int  1 1 1 1 1 1 1 1 1 1 ...\n",
            " $ est_socio         : int  4 4 4 3 3 3 4 4 4 4 ...\n",
            " $ est_dis           : int  3 3 3 2 2 2 3 3 3 3 ...\n",
            " $ upm               : int  1 1 1 2 2 2 3 3 3 3 ...\n",
            " $ factor            : int  206 206 206 167 167 167 212 212 212 212 ...\n",
            " $ procaptar         : int  0 0 0 0 0 0 0 0 0 0 ...\n",
            " $ rezago            : chr  \"Fuera de rezago\" \"Fuera de rezago\" \"Fuera de rezago\" \"Fuera de rezago\" ...\n",
            " $ vivi_autoprod     : chr  \"No\" \"No\" \"No\" \"No\" ...\n",
            " $ hacinamiento      : num  0 0 0 0 0 0 0 0 0 0 ...\n",
            " $ cve_ent           : chr  \"01\" \"01\" \"01\" \"01\" ...\n",
            " $ tot_resid_autoprod: num  0 0 0 0 0 0 1 3 2 0 ...\n",
            " $ tot_hog_autoprod  : num  0 0 0 0 0 0 1 1 1 0 ...\n",
            " $ nom_ent           : chr  \"Aguascalientes\" \"Aguascalientes\" \"Aguascalientes\" \"Aguascalientes\" ...\n",
            " $ sexo_jefe         : num  NA NA NA NA NA NA NA NA NA NA ...\n",
            " $ clase_hog         : num  NA NA NA NA NA NA NA NA NA NA ...\n",
            " $ ing_cor           : num  NA NA NA NA NA NA NA NA NA NA ...\n",
            " $ pobreza           : num  NA NA NA NA NA NA NA NA NA NA ...\n",
            " $ pobreza_e         : num  NA NA NA NA NA NA NA NA NA NA ...\n",
            " $ ic_sbv            : num  NA NA NA NA NA NA NA NA NA NA ...\n",
            " $ largo             : int  2 2 2 2 2 2 2 2 2 2 ...\n"
          ]
        }
      ],
      "source": [
        "#estructura general de la tabla\n",
        "str(viviendas)"
      ]
    },
    {
      "cell_type": "code",
      "execution_count": null,
      "metadata": {
        "id": "xlAmJwwNE1eG"
      },
      "outputs": [],
      "source": [
        "#Opción para ajustar si se tiene una sola upm\n",
        "options(survey.lmonely.psu=\"adjust\")\n",
        "#Definir diseño muestral\n",
        "dm<-viviendas%>%\n",
        "  #Diseño muestral\n",
        "  as_survey_design(weights=factor, strata=est_dis, ids=upm, nest=TRUE)"
      ]
    },
    {
      "cell_type": "code",
      "execution_count": null,
      "metadata": {
        "colab": {
          "base_uri": "https://localhost:8080/",
          "height": 129
        },
        "id": "0KeVEHUHD6M9",
        "outputId": "ca7ac096-6789-4700-c328-f835faf44929"
      },
      "outputs": [
        {
          "output_type": "display_data",
          "data": {
            "text/html": [
              "<table class=\"dataframe\">\n",
              "<caption>A tibble: 1 × 2</caption>\n",
              "<thead>\n",
              "\t<tr><th scope=col>viviendas</th><th scope=col>viviendas_se</th></tr>\n",
              "\t<tr><th scope=col>&lt;dbl&gt;</th><th scope=col>&lt;dbl&gt;</th></tr>\n",
              "</thead>\n",
              "<tbody>\n",
              "\t<tr><td>36968871</td><td>123818.8</td></tr>\n",
              "</tbody>\n",
              "</table>\n"
            ],
            "text/markdown": "\nA tibble: 1 × 2\n\n| viviendas &lt;dbl&gt; | viviendas_se &lt;dbl&gt; |\n|---|---|\n| 36968871 | 123818.8 |\n\n",
            "text/latex": "A tibble: 1 × 2\n\\begin{tabular}{ll}\n viviendas & viviendas\\_se\\\\\n <dbl> & <dbl>\\\\\n\\hline\n\t 36968871 & 123818.8\\\\\n\\end{tabular}\n",
            "text/plain": [
              "  viviendas viviendas_se\n",
              "1 36968871  123818.8    "
            ]
          },
          "metadata": {}
        }
      ],
      "source": [
        "# ------------------------------------------------ Mostrar el total de viviendas dentro del diseño muestral\n",
        "dm%>%\n",
        "  summarise(viviendas=survey_total())"
      ]
    },
    {
      "cell_type": "code",
      "execution_count": null,
      "metadata": {
        "colab": {
          "base_uri": "https://localhost:8080/",
          "height": 286
        },
        "id": "bwjAGMCHOsAI",
        "outputId": "9369304a-49d3-423b-e5d3-bf7207459b98"
      },
      "outputs": [
        {
          "output_type": "display_data",
          "data": {
            "text/html": [
              "<table class=\"dataframe\">\n",
              "<caption>A tabyl: 6 × 3</caption>\n",
              "<thead>\n",
              "\t<tr><th scope=col>tipo_adqui</th><th scope=col>viviendas</th><th scope=col>viviendas_cv</th></tr>\n",
              "\t<tr><th scope=col>&lt;chr&gt;</th><th scope=col>&lt;dbl&gt;</th><th scope=col>&lt;dbl&gt;</th></tr>\n",
              "</thead>\n",
              "<tbody>\n",
              "\t<tr><td>La compró hecha         </td><td> 7927697</td><td>0.012951971</td></tr>\n",
              "\t<tr><td>La mandó construir      </td><td> 9602694</td><td>0.011209743</td></tr>\n",
              "\t<tr><td>La construyó él mismo   </td><td> 6543043</td><td>0.013907712</td></tr>\n",
              "\t<tr><td>La obtuvo de otra manera</td><td> 1639874</td><td>0.026130331</td></tr>\n",
              "\t<tr><td>No especificado         </td><td>11255563</td><td>0.008630989</td></tr>\n",
              "\t<tr><td>Total                   </td><td>36968871</td><td>0.072830745</td></tr>\n",
              "</tbody>\n",
              "</table>\n"
            ],
            "text/markdown": "\nA tabyl: 6 × 3\n\n| tipo_adqui &lt;chr&gt; | viviendas &lt;dbl&gt; | viviendas_cv &lt;dbl&gt; |\n|---|---|---|\n| La compró hecha          |  7927697 | 0.012951971 |\n| La mandó construir       |  9602694 | 0.011209743 |\n| La construyó él mismo    |  6543043 | 0.013907712 |\n| La obtuvo de otra manera |  1639874 | 0.026130331 |\n| No especificado          | 11255563 | 0.008630989 |\n| Total                    | 36968871 | 0.072830745 |\n\n",
            "text/latex": "A tabyl: 6 × 3\n\\begin{tabular}{lll}\n tipo\\_adqui & viviendas & viviendas\\_cv\\\\\n <chr> & <dbl> & <dbl>\\\\\n\\hline\n\t La compró hecha          &  7927697 & 0.012951971\\\\\n\t La mandó construir       &  9602694 & 0.011209743\\\\\n\t La construyó él mismo    &  6543043 & 0.013907712\\\\\n\t La obtuvo de otra manera &  1639874 & 0.026130331\\\\\n\t No especificado          & 11255563 & 0.008630989\\\\\n\t Total                    & 36968871 & 0.072830745\\\\\n\\end{tabular}\n",
            "text/plain": [
              "  tipo_adqui               viviendas viviendas_cv\n",
              "1 La compró hecha           7927697  0.012951971 \n",
              "2 La mandó construir        9602694  0.011209743 \n",
              "3 La construyó él mismo     6543043  0.013907712 \n",
              "4 La obtuvo de otra manera  1639874  0.026130331 \n",
              "5 No especificado          11255563  0.008630989 \n",
              "6 Total                    36968871  0.072830745 "
            ]
          },
          "metadata": {}
        }
      ],
      "source": [
        "# ------------------------------------------------ Viviendas por tipo de adquisición del total dentro del diseño muestral\n",
        "# Se tomará en cuenta las variables 2(La mandó construir) y 3(La construyó él mismo) para crear la variable de las viviendas autoproducidas.\n",
        "dm %>%\n",
        "    group_by(tipo_adqui) %>%\n",
        "    summarise(\n",
        "    viviendas = survey_total(vartype = c(\"cv\"), level = 0.95)\n",
        "    ) %>%\n",
        "    mutate(\n",
        "    tipo_adqui = case_when(\n",
        "      tipo_adqui == 1 ~ \"La compró hecha\",\n",
        "      tipo_adqui == 2 ~ \"La mandó construir\",\n",
        "      tipo_adqui == 3 ~ \"La construyó él mismo\",\n",
        "      tipo_adqui == 4 ~ \"La obtuvo de otra manera\",\n",
        "      TRUE ~ \"No especificado\"\n",
        "    )\n",
        "  ) %>%\n",
        "  janitor::adorn_totals()\n"
      ]
    },
    {
      "cell_type": "code",
      "execution_count": null,
      "metadata": {
        "colab": {
          "base_uri": "https://localhost:8080/",
          "height": 317
        },
        "id": "IMvZbS0PPf09",
        "outputId": "24a021d7-028a-4a26-f6a0-5c4305479594"
      },
      "outputs": [
        {
          "output_type": "display_data",
          "data": {
            "text/html": [
              "<table class=\"dataframe\">\n",
              "<caption>A tabyl: 7 × 3</caption>\n",
              "<thead>\n",
              "\t<tr><th scope=col>tenencia</th><th scope=col>viviendas</th><th scope=col>viviendas_cv</th></tr>\n",
              "\t<tr><th scope=col>&lt;chr&gt;</th><th scope=col>&lt;dbl&gt;</th><th scope=col>&lt;dbl&gt;</th></tr>\n",
              "</thead>\n",
              "<tbody>\n",
              "\t<tr><td>Es rentada                     </td><td> 5566173</td><td>0.01364258</td></tr>\n",
              "\t<tr><td>Es prestada                    </td><td> 4533666</td><td>0.01475087</td></tr>\n",
              "\t<tr><td>Es propia pero la están pagando</td><td> 2910497</td><td>0.02325305</td></tr>\n",
              "\t<tr><td>Es propia                      </td><td>22802811</td><td>0.00609777</td></tr>\n",
              "\t<tr><td>Está intestada o en litigio    </td><td>  876601</td><td>0.03419609</td></tr>\n",
              "\t<tr><td>Presenta carencia              </td><td>  279123</td><td>0.05398445</td></tr>\n",
              "\t<tr><td>Total                          </td><td>36968871</td><td>0.14592482</td></tr>\n",
              "</tbody>\n",
              "</table>\n"
            ],
            "text/markdown": "\nA tabyl: 7 × 3\n\n| tenencia &lt;chr&gt; | viviendas &lt;dbl&gt; | viviendas_cv &lt;dbl&gt; |\n|---|---|---|\n| Es rentada                      |  5566173 | 0.01364258 |\n| Es prestada                     |  4533666 | 0.01475087 |\n| Es propia pero la están pagando |  2910497 | 0.02325305 |\n| Es propia                       | 22802811 | 0.00609777 |\n| Está intestada o en litigio     |   876601 | 0.03419609 |\n| Presenta carencia               |   279123 | 0.05398445 |\n| Total                           | 36968871 | 0.14592482 |\n\n",
            "text/latex": "A tabyl: 7 × 3\n\\begin{tabular}{lll}\n tenencia & viviendas & viviendas\\_cv\\\\\n <chr> & <dbl> & <dbl>\\\\\n\\hline\n\t Es rentada                      &  5566173 & 0.01364258\\\\\n\t Es prestada                     &  4533666 & 0.01475087\\\\\n\t Es propia pero la están pagando &  2910497 & 0.02325305\\\\\n\t Es propia                       & 22802811 & 0.00609777\\\\\n\t Está intestada o en litigio     &   876601 & 0.03419609\\\\\n\t Presenta carencia               &   279123 & 0.05398445\\\\\n\t Total                           & 36968871 & 0.14592482\\\\\n\\end{tabular}\n",
            "text/plain": [
              "  tenencia                        viviendas viviendas_cv\n",
              "1 Es rentada                       5566173  0.01364258  \n",
              "2 Es prestada                      4533666  0.01475087  \n",
              "3 Es propia pero la están pagando  2910497  0.02325305  \n",
              "4 Es propia                       22802811  0.00609777  \n",
              "5 Está intestada o en litigio       876601  0.03419609  \n",
              "6 Presenta carencia                 279123  0.05398445  \n",
              "7 Total                           36968871  0.14592482  "
            ]
          },
          "metadata": {}
        }
      ],
      "source": [
        "# ------------------------------------------------  Viviendas por tipo de tenencia del total dentro del diseño muestral\n",
        "# Se tomará en cuenta las variables 3 (Es propia pero la están pagando) y 4 (Es propia) para crear la variable de las viviendas autoproducidas.\n",
        "dm %>%\n",
        "    group_by(tenencia) %>%\n",
        "    summarise(\n",
        "    viviendas = survey_total(vartype = c(\"cv\"), level = 0.95)\n",
        "    ) %>%\n",
        "    mutate(\n",
        "    tenencia = case_when(\n",
        "      tenencia == 1 ~ \"Es rentada\",\n",
        "      tenencia == 2 ~ \"Es prestada\",\n",
        "      tenencia == 3 ~ \"Es propia pero la están pagando\",\n",
        "      tenencia == 4 ~ \"Es propia\",\n",
        "      tenencia == 5 ~ \"Está intestada o en litigio\",\n",
        "      tenencia == 6 ~ \"Presenta carencia\",\n",
        "      TRUE ~ \"No especificado\"\n",
        "    )\n",
        "  ) %>%\n",
        "  janitor::adorn_totals()"
      ]
    },
    {
      "cell_type": "code",
      "execution_count": null,
      "metadata": {
        "colab": {
          "base_uri": "https://localhost:8080/",
          "height": 192
        },
        "id": "IMDZBfa1LnYS",
        "outputId": "b5f48498-bd2b-412d-f221-5aac23af7c17"
      },
      "outputs": [
        {
          "output_type": "display_data",
          "data": {
            "text/html": [
              "<table class=\"dataframe\">\n",
              "<caption>A tabyl: 3 × 5</caption>\n",
              "<thead>\n",
              "\t<tr><th scope=col>tenencia</th><th scope=col>viviendas</th><th scope=col>viviendas_cv</th><th scope=col>porcentaje</th><th scope=col>porcentaje_cv</th></tr>\n",
              "\t<tr><th scope=col>&lt;chr&gt;</th><th scope=col>&lt;dbl&gt;</th><th scope=col>&lt;dbl&gt;</th><th scope=col>&lt;dbl&gt;</th><th scope=col>&lt;dbl&gt;</th></tr>\n",
              "</thead>\n",
              "<tbody>\n",
              "\t<tr><td>Es propia                      </td><td>15969781</td><td>0.008393368</td><td>0.98910201</td><td>0.0006677747</td></tr>\n",
              "\t<tr><td>Es propia pero la están pagando</td><td>  175956</td><td>0.060802190</td><td>0.01089799</td><td>0.0606072843</td></tr>\n",
              "\t<tr><td>Total                          </td><td>16145737</td><td>0.069195558</td><td>1.00000000</td><td>0.0612750589</td></tr>\n",
              "</tbody>\n",
              "</table>\n"
            ],
            "text/markdown": "\nA tabyl: 3 × 5\n\n| tenencia &lt;chr&gt; | viviendas &lt;dbl&gt; | viviendas_cv &lt;dbl&gt; | porcentaje &lt;dbl&gt; | porcentaje_cv &lt;dbl&gt; |\n|---|---|---|---|---|\n| Es propia                       | 15969781 | 0.008393368 | 0.98910201 | 0.0006677747 |\n| Es propia pero la están pagando |   175956 | 0.060802190 | 0.01089799 | 0.0606072843 |\n| Total                           | 16145737 | 0.069195558 | 1.00000000 | 0.0612750589 |\n\n",
            "text/latex": "A tabyl: 3 × 5\n\\begin{tabular}{lllll}\n tenencia & viviendas & viviendas\\_cv & porcentaje & porcentaje\\_cv\\\\\n <chr> & <dbl> & <dbl> & <dbl> & <dbl>\\\\\n\\hline\n\t Es propia                       & 15969781 & 0.008393368 & 0.98910201 & 0.0006677747\\\\\n\t Es propia pero la están pagando &   175956 & 0.060802190 & 0.01089799 & 0.0606072843\\\\\n\t Total                           & 16145737 & 0.069195558 & 1.00000000 & 0.0612750589\\\\\n\\end{tabular}\n",
            "text/plain": [
              "  tenencia                        viviendas viviendas_cv porcentaje\n",
              "1 Es propia                       15969781  0.008393368  0.98910201\n",
              "2 Es propia pero la están pagando   175956  0.060802190  0.01089799\n",
              "3 Total                           16145737  0.069195558  1.00000000\n",
              "  porcentaje_cv\n",
              "1 0.0006677747 \n",
              "2 0.0606072843 \n",
              "3 0.0612750589 "
            ]
          },
          "metadata": {}
        }
      ],
      "source": [
        "# ------------------------------------------------ Viviendas Autoproducidas\n",
        "\n",
        "# Dentro del filtro de las viviendas De tipo de tenencia 2 (Es propia pero la están pagando) y 3(Es propia),\n",
        "# Se creará un filtro por el tipo de adquisición 3(La mandó construir) y 4(La construyó él mismo)\n",
        "# para saber el total de viviendas autoproducidas.\n",
        "\n",
        "dm %>%\n",
        "  filter(tipo_adqui %in% c(2, 3)) %>%\n",
        "  mutate(\n",
        "  tenencia = case_when(\n",
        "      tenencia == 3 ~ \"Es propia pero la están pagando\",\n",
        "      tenencia == 4 ~ \"Es propia\")) %>%\n",
        "  group_by(tenencia) %>%\n",
        "  summarise(\n",
        "    viviendas = survey_total(vartype = \"cv\"),\n",
        "    porcentaje = survey_prop(vartype = \"cv\")\n",
        "  ) %>%\n",
        "  janitor::adorn_totals()\n",
        "\n"
      ]
    },
    {
      "cell_type": "code",
      "execution_count": null,
      "metadata": {
        "colab": {
          "base_uri": "https://localhost:8080/",
          "height": 192
        },
        "id": "ueDp11TVEo9z",
        "outputId": "3692f5f8-7a8f-4be0-dad4-ba7d37fac6f6"
      },
      "outputs": [
        {
          "output_type": "display_data",
          "data": {
            "text/html": [
              "<table class=\"dataframe\">\n",
              "<caption>A tabyl: 3 × 3</caption>\n",
              "<thead>\n",
              "\t<tr><th scope=col>vivi_autoprod</th><th scope=col>viviendas</th><th scope=col>viviendas_cv</th></tr>\n",
              "\t<tr><th scope=col>&lt;chr&gt;</th><th scope=col>&lt;dbl&gt;</th><th scope=col>&lt;dbl&gt;</th></tr>\n",
              "</thead>\n",
              "<tbody>\n",
              "\t<tr><td>No   </td><td>20823134</td><td>0.006196205</td></tr>\n",
              "\t<tr><td>Sí   </td><td>16145737</td><td>0.008336528</td></tr>\n",
              "\t<tr><td>Total</td><td>36968871</td><td>0.014532733</td></tr>\n",
              "</tbody>\n",
              "</table>\n"
            ],
            "text/markdown": "\nA tabyl: 3 × 3\n\n| vivi_autoprod &lt;chr&gt; | viviendas &lt;dbl&gt; | viviendas_cv &lt;dbl&gt; |\n|---|---|---|\n| No    | 20823134 | 0.006196205 |\n| Sí    | 16145737 | 0.008336528 |\n| Total | 36968871 | 0.014532733 |\n\n",
            "text/latex": "A tabyl: 3 × 3\n\\begin{tabular}{lll}\n vivi\\_autoprod & viviendas & viviendas\\_cv\\\\\n <chr> & <dbl> & <dbl>\\\\\n\\hline\n\t No    & 20823134 & 0.006196205\\\\\n\t Sí    & 16145737 & 0.008336528\\\\\n\t Total & 36968871 & 0.014532733\\\\\n\\end{tabular}\n",
            "text/plain": [
              "  vivi_autoprod viviendas viviendas_cv\n",
              "1 No            20823134  0.006196205 \n",
              "2 Sí            16145737  0.008336528 \n",
              "3 Total         36968871  0.014532733 "
            ]
          },
          "metadata": {}
        }
      ],
      "source": [
        "# ------------------------------------------------ Mostrar las viviendas que son Autoproducidas dentro del diseño muestral\n",
        "dm %>%\n",
        "  group_by(vivi_autoprod) %>%\n",
        "  summarise(viviendas = survey_total(vartype = \"cv\", level = 0.95)) %>%\n",
        "  janitor::adorn_totals()"
      ]
    },
    {
      "cell_type": "code",
      "execution_count": null,
      "metadata": {
        "colab": {
          "base_uri": "https://localhost:8080/",
          "height": 192
        },
        "id": "jHCCYclpVZJi",
        "outputId": "527d4d8c-80dd-4f94-88c5-e9c675b68170"
      },
      "outputs": [
        {
          "output_type": "display_data",
          "data": {
            "text/html": [
              "<table class=\"dataframe\">\n",
              "<caption>A tabyl: 3 × 3</caption>\n",
              "<thead>\n",
              "\t<tr><th scope=col>rezago</th><th scope=col>viviendas</th><th scope=col>viviendas_cv</th></tr>\n",
              "\t<tr><th scope=col>&lt;chr&gt;</th><th scope=col>&lt;dbl&gt;</th><th scope=col>&lt;dbl&gt;</th></tr>\n",
              "</thead>\n",
              "<tbody>\n",
              "\t<tr><td>En rezago      </td><td> 8977409</td><td>0.011080097</td></tr>\n",
              "\t<tr><td>Fuera de rezago</td><td>27991462</td><td>0.004748287</td></tr>\n",
              "\t<tr><td>Total          </td><td>36968871</td><td>0.015828384</td></tr>\n",
              "</tbody>\n",
              "</table>\n"
            ],
            "text/markdown": "\nA tabyl: 3 × 3\n\n| rezago &lt;chr&gt; | viviendas &lt;dbl&gt; | viviendas_cv &lt;dbl&gt; |\n|---|---|---|\n| En rezago       |  8977409 | 0.011080097 |\n| Fuera de rezago | 27991462 | 0.004748287 |\n| Total           | 36968871 | 0.015828384 |\n\n",
            "text/latex": "A tabyl: 3 × 3\n\\begin{tabular}{lll}\n rezago & viviendas & viviendas\\_cv\\\\\n <chr> & <dbl> & <dbl>\\\\\n\\hline\n\t En rezago       &  8977409 & 0.011080097\\\\\n\t Fuera de rezago & 27991462 & 0.004748287\\\\\n\t Total           & 36968871 & 0.015828384\\\\\n\\end{tabular}\n",
            "text/plain": [
              "  rezago          viviendas viviendas_cv\n",
              "1 En rezago        8977409  0.011080097 \n",
              "2 Fuera de rezago 27991462  0.004748287 \n",
              "3 Total           36968871  0.015828384 "
            ]
          },
          "metadata": {}
        }
      ],
      "source": [
        "# ------------------------------------------------ Mostrar las viviendas que se encuentran en condición de rezago dentro del diseño muestral\n",
        "dm %>%\n",
        "  group_by(rezago) %>%\n",
        "  summarise(viviendas = survey_total(vartype = \"cv\", level = 0.95)) %>%\n",
        "  janitor::adorn_totals()"
      ]
    },
    {
      "cell_type": "code",
      "execution_count": null,
      "metadata": {
        "colab": {
          "base_uri": "https://localhost:8080/",
          "height": 192
        },
        "id": "k0ixR8PZX4Zs",
        "outputId": "af6c32f7-b2ba-45b3-8dcc-d5ab76821e0a"
      },
      "outputs": [
        {
          "output_type": "display_data",
          "data": {
            "text/html": [
              "<table class=\"dataframe\">\n",
              "<caption>A tabyl: 3 × 3</caption>\n",
              "<thead>\n",
              "\t<tr><th scope=col>rezago</th><th scope=col>viviendas</th><th scope=col>viviendas_cv</th></tr>\n",
              "\t<tr><th scope=col>&lt;chr&gt;</th><th scope=col>&lt;dbl&gt;</th><th scope=col>&lt;dbl&gt;</th></tr>\n",
              "</thead>\n",
              "<tbody>\n",
              "\t<tr><td>En rezago      </td><td> 5310725</td><td>0.01417899</td></tr>\n",
              "\t<tr><td>Fuera de rezago</td><td>10835012</td><td>0.01111819</td></tr>\n",
              "\t<tr><td>Total          </td><td>16145737</td><td>0.02529718</td></tr>\n",
              "</tbody>\n",
              "</table>\n"
            ],
            "text/markdown": "\nA tabyl: 3 × 3\n\n| rezago &lt;chr&gt; | viviendas &lt;dbl&gt; | viviendas_cv &lt;dbl&gt; |\n|---|---|---|\n| En rezago       |  5310725 | 0.01417899 |\n| Fuera de rezago | 10835012 | 0.01111819 |\n| Total           | 16145737 | 0.02529718 |\n\n",
            "text/latex": "A tabyl: 3 × 3\n\\begin{tabular}{lll}\n rezago & viviendas & viviendas\\_cv\\\\\n <chr> & <dbl> & <dbl>\\\\\n\\hline\n\t En rezago       &  5310725 & 0.01417899\\\\\n\t Fuera de rezago & 10835012 & 0.01111819\\\\\n\t Total           & 16145737 & 0.02529718\\\\\n\\end{tabular}\n",
            "text/plain": [
              "  rezago          viviendas viviendas_cv\n",
              "1 En rezago        5310725  0.01417899  \n",
              "2 Fuera de rezago 10835012  0.01111819  \n",
              "3 Total           16145737  0.02529718  "
            ]
          },
          "metadata": {}
        }
      ],
      "source": [
        "# ------------------------------------------------ Viviendas en condición de rezago que son Autoproducidas\n",
        "dm %>%\n",
        "  filter(vivi_autoprod == \"Sí\") %>%\n",
        "  group_by(rezago) %>%\n",
        "  summarise(viviendas = survey_total(vartype = \"cv\", level = 0.95)) %>%\n",
        "  janitor::adorn_totals()\n"
      ]
    },
    {
      "cell_type": "code",
      "source": [
        "# ------------------------------------------------ Total de residentes que habitan en viviendas\n",
        "dm %>%\n",
        "  summarise(residentes = survey_total(tot_resid, vartype = \"cv\", level = 0.95)) %>%\n",
        "  janitor::adorn_totals()"
      ],
      "metadata": {
        "colab": {
          "base_uri": "https://localhost:8080/",
          "height": 161
        },
        "id": "0xnNrTRZS8r_",
        "outputId": "4114af5c-dd10-4be0-f995-74ab1cfc3497"
      },
      "execution_count": null,
      "outputs": [
        {
          "output_type": "display_data",
          "data": {
            "text/html": [
              "<table class=\"dataframe\">\n",
              "<caption>A tabyl: 2 × 2</caption>\n",
              "<thead>\n",
              "\t<tr><th scope=col>residentes</th><th scope=col>residentes_cv</th></tr>\n",
              "\t<tr><th scope=col>&lt;chr&gt;</th><th scope=col>&lt;dbl&gt;</th></tr>\n",
              "</thead>\n",
              "<tbody>\n",
              "\t<tr><td>128999038</td><td>0.004676614</td></tr>\n",
              "\t<tr><td>Total    </td><td>0.004676614</td></tr>\n",
              "</tbody>\n",
              "</table>\n"
            ],
            "text/markdown": "\nA tabyl: 2 × 2\n\n| residentes &lt;chr&gt; | residentes_cv &lt;dbl&gt; |\n|---|---|\n| 128999038 | 0.004676614 |\n| Total     | 0.004676614 |\n\n",
            "text/latex": "A tabyl: 2 × 2\n\\begin{tabular}{ll}\n residentes & residentes\\_cv\\\\\n <chr> & <dbl>\\\\\n\\hline\n\t 128999038 & 0.004676614\\\\\n\t Total     & 0.004676614\\\\\n\\end{tabular}\n",
            "text/plain": [
              "  residentes residentes_cv\n",
              "1 128999038  0.004676614  \n",
              "2 Total      0.004676614  "
            ]
          },
          "metadata": {}
        }
      ]
    },
    {
      "cell_type": "code",
      "source": [
        "# ------------------------------------------------ Total de residentes que habitan viviendas autoproducidas\n",
        "dm %>%\n",
        "  summarise(residentes = survey_total(tot_resid_autoprod, vartype = \"cv\", level = 0.95)) %>%\n",
        "  janitor::adorn_totals()"
      ],
      "metadata": {
        "colab": {
          "base_uri": "https://localhost:8080/",
          "height": 161
        },
        "id": "JjErcEpGRECA",
        "outputId": "390d2d9b-a313-4161-99d5-bf3f85084379"
      },
      "execution_count": null,
      "outputs": [
        {
          "output_type": "display_data",
          "data": {
            "text/html": [
              "<table class=\"dataframe\">\n",
              "<caption>A tabyl: 2 × 2</caption>\n",
              "<thead>\n",
              "\t<tr><th scope=col>residentes</th><th scope=col>residentes_cv</th></tr>\n",
              "\t<tr><th scope=col>&lt;chr&gt;</th><th scope=col>&lt;dbl&gt;</th></tr>\n",
              "</thead>\n",
              "<tbody>\n",
              "\t<tr><td>60426775</td><td>0.009749827</td></tr>\n",
              "\t<tr><td>Total   </td><td>0.009749827</td></tr>\n",
              "</tbody>\n",
              "</table>\n"
            ],
            "text/markdown": "\nA tabyl: 2 × 2\n\n| residentes &lt;chr&gt; | residentes_cv &lt;dbl&gt; |\n|---|---|\n| 60426775 | 0.009749827 |\n| Total    | 0.009749827 |\n\n",
            "text/latex": "A tabyl: 2 × 2\n\\begin{tabular}{ll}\n residentes & residentes\\_cv\\\\\n <chr> & <dbl>\\\\\n\\hline\n\t 60426775 & 0.009749827\\\\\n\t Total    & 0.009749827\\\\\n\\end{tabular}\n",
            "text/plain": [
              "  residentes residentes_cv\n",
              "1 60426775   0.009749827  \n",
              "2 Total      0.009749827  "
            ]
          },
          "metadata": {}
        }
      ]
    },
    {
      "cell_type": "code",
      "source": [
        "dm %>%\n",
        "filter(vivi_autoprod == \"Sí\")%>%\n",
        "summarise(residentes = survey_total(tot_resid, vartype = \"cv\")) %>%\n",
        "  janitor::adorn_totals()\n"
      ],
      "metadata": {
        "colab": {
          "base_uri": "https://localhost:8080/",
          "height": 161
        },
        "id": "vIti-DxKCLIT",
        "outputId": "34d63748-8a22-4a6f-b104-cd195d639651"
      },
      "execution_count": null,
      "outputs": [
        {
          "output_type": "display_data",
          "data": {
            "text/html": [
              "<table class=\"dataframe\">\n",
              "<caption>A tabyl: 2 × 2</caption>\n",
              "<thead>\n",
              "\t<tr><th scope=col>residentes</th><th scope=col>residentes_cv</th></tr>\n",
              "\t<tr><th scope=col>&lt;chr&gt;</th><th scope=col>&lt;dbl&gt;</th></tr>\n",
              "</thead>\n",
              "<tbody>\n",
              "\t<tr><td>60426775</td><td>0.009749827</td></tr>\n",
              "\t<tr><td>Total   </td><td>0.009749827</td></tr>\n",
              "</tbody>\n",
              "</table>\n"
            ],
            "text/markdown": "\nA tabyl: 2 × 2\n\n| residentes &lt;chr&gt; | residentes_cv &lt;dbl&gt; |\n|---|---|\n| 60426775 | 0.009749827 |\n| Total    | 0.009749827 |\n\n",
            "text/latex": "A tabyl: 2 × 2\n\\begin{tabular}{ll}\n residentes & residentes\\_cv\\\\\n <chr> & <dbl>\\\\\n\\hline\n\t 60426775 & 0.009749827\\\\\n\t Total    & 0.009749827\\\\\n\\end{tabular}\n",
            "text/plain": [
              "  residentes residentes_cv\n",
              "1 60426775   0.009749827  \n",
              "2 Total      0.009749827  "
            ]
          },
          "metadata": {}
        }
      ]
    },
    {
      "cell_type": "code",
      "source": [
        "# ------------------------------------------------\n",
        "# 1. Total de viviendas particulares habitadas autoproducidas\n",
        " dm %>%\n",
        "  filter(vivi_autoprod == \"Sí\") %>%\n",
        "  summarise(viviendas = survey_total(vartype = c(\"cv\"))) %>%\n",
        "  janitor::adorn_totals()\n",
        "\n"
      ],
      "metadata": {
        "id": "6Pk9_RQpCWo3",
        "colab": {
          "base_uri": "https://localhost:8080/",
          "height": 161
        },
        "outputId": "166d4f9e-0af9-4460-d073-cf2660056a49"
      },
      "execution_count": null,
      "outputs": [
        {
          "output_type": "display_data",
          "data": {
            "text/html": [
              "<table class=\"dataframe\">\n",
              "<caption>A tabyl: 2 × 2</caption>\n",
              "<thead>\n",
              "\t<tr><th scope=col>viviendas</th><th scope=col>viviendas_cv</th></tr>\n",
              "\t<tr><th scope=col>&lt;chr&gt;</th><th scope=col>&lt;dbl&gt;</th></tr>\n",
              "</thead>\n",
              "<tbody>\n",
              "\t<tr><td>16145737</td><td>0.008336528</td></tr>\n",
              "\t<tr><td>Total   </td><td>0.008336528</td></tr>\n",
              "</tbody>\n",
              "</table>\n"
            ],
            "text/markdown": "\nA tabyl: 2 × 2\n\n| viviendas &lt;chr&gt; | viviendas_cv &lt;dbl&gt; |\n|---|---|\n| 16145737 | 0.008336528 |\n| Total    | 0.008336528 |\n\n",
            "text/latex": "A tabyl: 2 × 2\n\\begin{tabular}{ll}\n viviendas & viviendas\\_cv\\\\\n <chr> & <dbl>\\\\\n\\hline\n\t 16145737 & 0.008336528\\\\\n\t Total    & 0.008336528\\\\\n\\end{tabular}\n",
            "text/plain": [
              "  viviendas viviendas_cv\n",
              "1 16145737  0.008336528 \n",
              "2 Total     0.008336528 "
            ]
          },
          "metadata": {}
        }
      ]
    },
    {
      "cell_type": "code",
      "execution_count": null,
      "metadata": {
        "colab": {
          "base_uri": "https://localhost:8080/",
          "height": 161
        },
        "id": "kptvk_FnEXP9",
        "outputId": "3259c082-8eee-46e3-f4da-4a0705102ba0"
      },
      "outputs": [
        {
          "output_type": "display_data",
          "data": {
            "text/html": [
              "<table class=\"dataframe\">\n",
              "<caption>A tabyl: 2 × 2</caption>\n",
              "<thead>\n",
              "\t<tr><th scope=col>viviendas</th><th scope=col>viviendas_cv</th></tr>\n",
              "\t<tr><th scope=col>&lt;chr&gt;</th><th scope=col>&lt;dbl&gt;</th></tr>\n",
              "</thead>\n",
              "<tbody>\n",
              "\t<tr><td>16145737</td><td>0.008336528</td></tr>\n",
              "\t<tr><td>Total   </td><td>0.008336528</td></tr>\n",
              "</tbody>\n",
              "</table>\n"
            ],
            "text/markdown": "\nA tabyl: 2 × 2\n\n| viviendas &lt;chr&gt; | viviendas_cv &lt;dbl&gt; |\n|---|---|\n| 16145737 | 0.008336528 |\n| Total    | 0.008336528 |\n\n",
            "text/latex": "A tabyl: 2 × 2\n\\begin{tabular}{ll}\n viviendas & viviendas\\_cv\\\\\n <chr> & <dbl>\\\\\n\\hline\n\t 16145737 & 0.008336528\\\\\n\t Total    & 0.008336528\\\\\n\\end{tabular}\n",
            "text/plain": [
              "  viviendas viviendas_cv\n",
              "1 16145737  0.008336528 \n",
              "2 Total     0.008336528 "
            ]
          },
          "metadata": {}
        }
      ],
      "source": [
        "# ------------------------------------------------ 1. Total de viviendas particulares habitadas autoproducidas\n",
        "tot_vivi <- dm %>%\n",
        "  filter(vivi_autoprod == \"Sí\") %>%\n",
        "  summarise(viviendas = survey_total(vartype = \"cv\")) %>%\n",
        "  janitor::adorn_totals()\n",
        "\n",
        "tot_vivi\n"
      ]
    },
    {
      "cell_type": "code",
      "execution_count": null,
      "metadata": {
        "colab": {
          "base_uri": "https://localhost:8080/",
          "height": 1000
        },
        "id": "rr9ZlFqamkof",
        "outputId": "2a3b34e6-335a-49e8-ef52-d49bda945fc8"
      },
      "outputs": [
        {
          "output_type": "display_data",
          "data": {
            "text/html": [
              "<table class=\"dataframe\">\n",
              "<caption>A tabyl: 33 × 5</caption>\n",
              "<thead>\n",
              "\t<tr><th scope=col>nom_ent</th><th scope=col>viviendas</th><th scope=col>viviendas_cv</th><th scope=col>porcentaje</th><th scope=col>porcentaje_cv</th></tr>\n",
              "\t<tr><th scope=col>&lt;chr&gt;</th><th scope=col>&lt;dbl&gt;</th><th scope=col>&lt;dbl&gt;</th><th scope=col>&lt;dbl&gt;</th><th scope=col>&lt;dbl&gt;</th></tr>\n",
              "</thead>\n",
              "<tbody>\n",
              "\t<tr><td>Aguascalientes                 </td><td>  109512</td><td>0.06191309</td><td>0.006782719</td><td>0.06205424</td></tr>\n",
              "\t<tr><td>Baja California                </td><td>  320884</td><td>0.05600397</td><td>0.019874224</td><td>0.05550922</td></tr>\n",
              "\t<tr><td>Baja California Sur            </td><td>   94156</td><td>0.04264530</td><td>0.005831633</td><td>0.04320773</td></tr>\n",
              "\t<tr><td>Campeche                       </td><td>  147824</td><td>0.03065538</td><td>0.009155606</td><td>0.03149669</td></tr>\n",
              "\t<tr><td>Chiapas                        </td><td>  920380</td><td>0.02906875</td><td>0.057004521</td><td>0.02860338</td></tr>\n",
              "\t<tr><td>Chihuahua                      </td><td>  355881</td><td>0.03493183</td><td>0.022041793</td><td>0.03515591</td></tr>\n",
              "\t<tr><td>Ciudad de México               </td><td>  825595</td><td>0.04883833</td><td>0.051133931</td><td>0.04701864</td></tr>\n",
              "\t<tr><td>Coahuila de Zaragoza           </td><td>  289557</td><td>0.04842732</td><td>0.017933960</td><td>0.04827614</td></tr>\n",
              "\t<tr><td>Colima                         </td><td>   60322</td><td>0.05078451</td><td>0.003736095</td><td>0.05127663</td></tr>\n",
              "\t<tr><td>Durango                        </td><td>  210880</td><td>0.03646982</td><td>0.013061033</td><td>0.03694322</td></tr>\n",
              "\t<tr><td>Guanajuato                     </td><td>  720533</td><td>0.03824647</td><td>0.044626826</td><td>0.03743969</td></tr>\n",
              "\t<tr><td>Guerrero                       </td><td>  631107</td><td>0.02700221</td><td>0.039088151</td><td>0.02723265</td></tr>\n",
              "\t<tr><td>Hidalgo                        </td><td>  553662</td><td>0.04299798</td><td>0.034291528</td><td>0.04232642</td></tr>\n",
              "\t<tr><td>Jalisco                        </td><td>  746628</td><td>0.05044853</td><td>0.046243042</td><td>0.04877674</td></tr>\n",
              "\t<tr><td>Michoacán de Ocampo            </td><td>  711358</td><td>0.04400927</td><td>0.044058565</td><td>0.04284445</td></tr>\n",
              "\t<tr><td>Morelos                        </td><td>  312808</td><td>0.03807199</td><td>0.019374030</td><td>0.03824670</td></tr>\n",
              "\t<tr><td>México                         </td><td> 2230631</td><td>0.03263413</td><td>0.138156036</td><td>0.02898647</td></tr>\n",
              "\t<tr><td>Nayarit                        </td><td>  164675</td><td>0.04377859</td><td>0.010199287</td><td>0.04412445</td></tr>\n",
              "\t<tr><td>Nuevo León                     </td><td>  493532</td><td>0.06447961</td><td>0.030567326</td><td>0.06303129</td></tr>\n",
              "\t<tr><td>Oaxaca                         </td><td>  833293</td><td>0.03077279</td><td>0.051610713</td><td>0.03031032</td></tr>\n",
              "\t<tr><td>Puebla                         </td><td>  929582</td><td>0.02893960</td><td>0.057574454</td><td>0.02847035</td></tr>\n",
              "\t<tr><td>Querétaro                      </td><td>  325792</td><td>0.03761787</td><td>0.020178206</td><td>0.03778218</td></tr>\n",
              "\t<tr><td>Quintana Roo                   </td><td>  199585</td><td>0.04578183</td><td>0.012361467</td><td>0.04597450</td></tr>\n",
              "\t<tr><td>San Luis Potosí                </td><td>  344620</td><td>0.03251302</td><td>0.021344334</td><td>0.03288568</td></tr>\n",
              "\t<tr><td>Sinaloa                        </td><td>  396541</td><td>0.02930458</td><td>0.024560105</td><td>0.02976699</td></tr>\n",
              "\t<tr><td>Sonora                         </td><td>  286475</td><td>0.04803944</td><td>0.017743074</td><td>0.04791024</td></tr>\n",
              "\t<tr><td>Tabasco                        </td><td>  408928</td><td>0.03696098</td><td>0.025327305</td><td>0.03696501</td></tr>\n",
              "\t<tr><td>Tamaulipas                     </td><td>  401797</td><td>0.04434340</td><td>0.024885640</td><td>0.04402235</td></tr>\n",
              "\t<tr><td>Tlaxcala                       </td><td>  215071</td><td>0.02388936</td><td>0.013320606</td><td>0.02499990</td></tr>\n",
              "\t<tr><td>Veracruz de Ignacio de la Llave</td><td> 1377957</td><td>0.02938346</td><td>0.085344943</td><td>0.02802702</td></tr>\n",
              "\t<tr><td>Yucatán                        </td><td>  288905</td><td>0.03093770</td><td>0.017893578</td><td>0.03150215</td></tr>\n",
              "\t<tr><td>Zacatecas                      </td><td>  237266</td><td>0.03594007</td><td>0.014695272</td><td>0.03637613</td></tr>\n",
              "\t<tr><td>Total                          </td><td>16145737</td><td>1.27583116</td><td>1.000000003</td><td>1.26754348</td></tr>\n",
              "</tbody>\n",
              "</table>\n"
            ],
            "text/markdown": "\nA tabyl: 33 × 5\n\n| nom_ent &lt;chr&gt; | viviendas &lt;dbl&gt; | viviendas_cv &lt;dbl&gt; | porcentaje &lt;dbl&gt; | porcentaje_cv &lt;dbl&gt; |\n|---|---|---|---|---|\n| Aguascalientes                  |   109512 | 0.06191309 | 0.006782719 | 0.06205424 |\n| Baja California                 |   320884 | 0.05600397 | 0.019874224 | 0.05550922 |\n| Baja California Sur             |    94156 | 0.04264530 | 0.005831633 | 0.04320773 |\n| Campeche                        |   147824 | 0.03065538 | 0.009155606 | 0.03149669 |\n| Chiapas                         |   920380 | 0.02906875 | 0.057004521 | 0.02860338 |\n| Chihuahua                       |   355881 | 0.03493183 | 0.022041793 | 0.03515591 |\n| Ciudad de México                |   825595 | 0.04883833 | 0.051133931 | 0.04701864 |\n| Coahuila de Zaragoza            |   289557 | 0.04842732 | 0.017933960 | 0.04827614 |\n| Colima                          |    60322 | 0.05078451 | 0.003736095 | 0.05127663 |\n| Durango                         |   210880 | 0.03646982 | 0.013061033 | 0.03694322 |\n| Guanajuato                      |   720533 | 0.03824647 | 0.044626826 | 0.03743969 |\n| Guerrero                        |   631107 | 0.02700221 | 0.039088151 | 0.02723265 |\n| Hidalgo                         |   553662 | 0.04299798 | 0.034291528 | 0.04232642 |\n| Jalisco                         |   746628 | 0.05044853 | 0.046243042 | 0.04877674 |\n| Michoacán de Ocampo             |   711358 | 0.04400927 | 0.044058565 | 0.04284445 |\n| Morelos                         |   312808 | 0.03807199 | 0.019374030 | 0.03824670 |\n| México                          |  2230631 | 0.03263413 | 0.138156036 | 0.02898647 |\n| Nayarit                         |   164675 | 0.04377859 | 0.010199287 | 0.04412445 |\n| Nuevo León                      |   493532 | 0.06447961 | 0.030567326 | 0.06303129 |\n| Oaxaca                          |   833293 | 0.03077279 | 0.051610713 | 0.03031032 |\n| Puebla                          |   929582 | 0.02893960 | 0.057574454 | 0.02847035 |\n| Querétaro                       |   325792 | 0.03761787 | 0.020178206 | 0.03778218 |\n| Quintana Roo                    |   199585 | 0.04578183 | 0.012361467 | 0.04597450 |\n| San Luis Potosí                 |   344620 | 0.03251302 | 0.021344334 | 0.03288568 |\n| Sinaloa                         |   396541 | 0.02930458 | 0.024560105 | 0.02976699 |\n| Sonora                          |   286475 | 0.04803944 | 0.017743074 | 0.04791024 |\n| Tabasco                         |   408928 | 0.03696098 | 0.025327305 | 0.03696501 |\n| Tamaulipas                      |   401797 | 0.04434340 | 0.024885640 | 0.04402235 |\n| Tlaxcala                        |   215071 | 0.02388936 | 0.013320606 | 0.02499990 |\n| Veracruz de Ignacio de la Llave |  1377957 | 0.02938346 | 0.085344943 | 0.02802702 |\n| Yucatán                         |   288905 | 0.03093770 | 0.017893578 | 0.03150215 |\n| Zacatecas                       |   237266 | 0.03594007 | 0.014695272 | 0.03637613 |\n| Total                           | 16145737 | 1.27583116 | 1.000000003 | 1.26754348 |\n\n",
            "text/latex": "A tabyl: 33 × 5\n\\begin{tabular}{lllll}\n nom\\_ent & viviendas & viviendas\\_cv & porcentaje & porcentaje\\_cv\\\\\n <chr> & <dbl> & <dbl> & <dbl> & <dbl>\\\\\n\\hline\n\t Aguascalientes                  &   109512 & 0.06191309 & 0.006782719 & 0.06205424\\\\\n\t Baja California                 &   320884 & 0.05600397 & 0.019874224 & 0.05550922\\\\\n\t Baja California Sur             &    94156 & 0.04264530 & 0.005831633 & 0.04320773\\\\\n\t Campeche                        &   147824 & 0.03065538 & 0.009155606 & 0.03149669\\\\\n\t Chiapas                         &   920380 & 0.02906875 & 0.057004521 & 0.02860338\\\\\n\t Chihuahua                       &   355881 & 0.03493183 & 0.022041793 & 0.03515591\\\\\n\t Ciudad de México                &   825595 & 0.04883833 & 0.051133931 & 0.04701864\\\\\n\t Coahuila de Zaragoza            &   289557 & 0.04842732 & 0.017933960 & 0.04827614\\\\\n\t Colima                          &    60322 & 0.05078451 & 0.003736095 & 0.05127663\\\\\n\t Durango                         &   210880 & 0.03646982 & 0.013061033 & 0.03694322\\\\\n\t Guanajuato                      &   720533 & 0.03824647 & 0.044626826 & 0.03743969\\\\\n\t Guerrero                        &   631107 & 0.02700221 & 0.039088151 & 0.02723265\\\\\n\t Hidalgo                         &   553662 & 0.04299798 & 0.034291528 & 0.04232642\\\\\n\t Jalisco                         &   746628 & 0.05044853 & 0.046243042 & 0.04877674\\\\\n\t Michoacán de Ocampo             &   711358 & 0.04400927 & 0.044058565 & 0.04284445\\\\\n\t Morelos                         &   312808 & 0.03807199 & 0.019374030 & 0.03824670\\\\\n\t México                          &  2230631 & 0.03263413 & 0.138156036 & 0.02898647\\\\\n\t Nayarit                         &   164675 & 0.04377859 & 0.010199287 & 0.04412445\\\\\n\t Nuevo León                      &   493532 & 0.06447961 & 0.030567326 & 0.06303129\\\\\n\t Oaxaca                          &   833293 & 0.03077279 & 0.051610713 & 0.03031032\\\\\n\t Puebla                          &   929582 & 0.02893960 & 0.057574454 & 0.02847035\\\\\n\t Querétaro                       &   325792 & 0.03761787 & 0.020178206 & 0.03778218\\\\\n\t Quintana Roo                    &   199585 & 0.04578183 & 0.012361467 & 0.04597450\\\\\n\t San Luis Potosí                 &   344620 & 0.03251302 & 0.021344334 & 0.03288568\\\\\n\t Sinaloa                         &   396541 & 0.02930458 & 0.024560105 & 0.02976699\\\\\n\t Sonora                          &   286475 & 0.04803944 & 0.017743074 & 0.04791024\\\\\n\t Tabasco                         &   408928 & 0.03696098 & 0.025327305 & 0.03696501\\\\\n\t Tamaulipas                      &   401797 & 0.04434340 & 0.024885640 & 0.04402235\\\\\n\t Tlaxcala                        &   215071 & 0.02388936 & 0.013320606 & 0.02499990\\\\\n\t Veracruz de Ignacio de la Llave &  1377957 & 0.02938346 & 0.085344943 & 0.02802702\\\\\n\t Yucatán                         &   288905 & 0.03093770 & 0.017893578 & 0.03150215\\\\\n\t Zacatecas                       &   237266 & 0.03594007 & 0.014695272 & 0.03637613\\\\\n\t Total                           & 16145737 & 1.27583116 & 1.000000003 & 1.26754348\\\\\n\\end{tabular}\n",
            "text/plain": [
              "   nom_ent                         viviendas viviendas_cv porcentaje \n",
              "1  Aguascalientes                    109512  0.06191309   0.006782719\n",
              "2  Baja California                   320884  0.05600397   0.019874224\n",
              "3  Baja California Sur                94156  0.04264530   0.005831633\n",
              "4  Campeche                          147824  0.03065538   0.009155606\n",
              "5  Chiapas                           920380  0.02906875   0.057004521\n",
              "6  Chihuahua                         355881  0.03493183   0.022041793\n",
              "7  Ciudad de México                  825595  0.04883833   0.051133931\n",
              "8  Coahuila de Zaragoza              289557  0.04842732   0.017933960\n",
              "9  Colima                             60322  0.05078451   0.003736095\n",
              "10 Durango                           210880  0.03646982   0.013061033\n",
              "11 Guanajuato                        720533  0.03824647   0.044626826\n",
              "12 Guerrero                          631107  0.02700221   0.039088151\n",
              "13 Hidalgo                           553662  0.04299798   0.034291528\n",
              "14 Jalisco                           746628  0.05044853   0.046243042\n",
              "15 Michoacán de Ocampo               711358  0.04400927   0.044058565\n",
              "16 Morelos                           312808  0.03807199   0.019374030\n",
              "17 México                           2230631  0.03263413   0.138156036\n",
              "18 Nayarit                           164675  0.04377859   0.010199287\n",
              "19 Nuevo León                        493532  0.06447961   0.030567326\n",
              "20 Oaxaca                            833293  0.03077279   0.051610713\n",
              "21 Puebla                            929582  0.02893960   0.057574454\n",
              "22 Querétaro                         325792  0.03761787   0.020178206\n",
              "23 Quintana Roo                      199585  0.04578183   0.012361467\n",
              "24 San Luis Potosí                   344620  0.03251302   0.021344334\n",
              "25 Sinaloa                           396541  0.02930458   0.024560105\n",
              "26 Sonora                            286475  0.04803944   0.017743074\n",
              "27 Tabasco                           408928  0.03696098   0.025327305\n",
              "28 Tamaulipas                        401797  0.04434340   0.024885640\n",
              "29 Tlaxcala                          215071  0.02388936   0.013320606\n",
              "30 Veracruz de Ignacio de la Llave  1377957  0.02938346   0.085344943\n",
              "31 Yucatán                           288905  0.03093770   0.017893578\n",
              "32 Zacatecas                         237266  0.03594007   0.014695272\n",
              "33 Total                           16145737  1.27583116   1.000000003\n",
              "   porcentaje_cv\n",
              "1  0.06205424   \n",
              "2  0.05550922   \n",
              "3  0.04320773   \n",
              "4  0.03149669   \n",
              "5  0.02860338   \n",
              "6  0.03515591   \n",
              "7  0.04701864   \n",
              "8  0.04827614   \n",
              "9  0.05127663   \n",
              "10 0.03694322   \n",
              "11 0.03743969   \n",
              "12 0.02723265   \n",
              "13 0.04232642   \n",
              "14 0.04877674   \n",
              "15 0.04284445   \n",
              "16 0.03824670   \n",
              "17 0.02898647   \n",
              "18 0.04412445   \n",
              "19 0.06303129   \n",
              "20 0.03031032   \n",
              "21 0.02847035   \n",
              "22 0.03778218   \n",
              "23 0.04597450   \n",
              "24 0.03288568   \n",
              "25 0.02976699   \n",
              "26 0.04791024   \n",
              "27 0.03696501   \n",
              "28 0.04402235   \n",
              "29 0.02499990   \n",
              "30 0.02802702   \n",
              "31 0.03150215   \n",
              "32 0.03637613   \n",
              "33 1.26754348   "
            ]
          },
          "metadata": {}
        }
      ],
      "source": [
        "# ------------------------------------------------ 2. Total de viviendas particulares habitadas autoproducidas por entidad federativa\n",
        "tot_vivi_nom_ent <- dm %>%\n",
        "  filter(vivi_autoprod==\"Sí\")%>%\n",
        "  group_by(nom_ent) %>%\n",
        "  summarise(\n",
        "    viviendas = survey_total(vartype = \"cv\"),\n",
        "    porcentaje = survey_prop(vartype = \"cv\")) %>%\n",
        "  janitor::adorn_totals()\n",
        "\n",
        "tot_vivi_nom_ent"
      ]
    },
    {
      "source": [
        "# ------------------------------------------------ 3. Total de viviendas particulares habitadas en rezago habitacional y autoproducidas\n",
        "tot_vivi_rezago <- dm %>%\n",
        "  filter(vivi_autoprod == \"Sí\") %>%\n",
        "  group_by(rezago) %>%\n",
        "  summarise(\n",
        "  viviendas=survey_total(vartype = \"cv\"),\n",
        "  prop_viviendas = survey_prop(vartype = \"cv\"))%>%\n",
        "  janitor::adorn_totals()\n",
        "\n",
        "tot_vivi_rezago"
      ],
      "cell_type": "code",
      "metadata": {
        "colab": {
          "base_uri": "https://localhost:8080/",
          "height": 192
        },
        "id": "oMGn_QwsGHFz",
        "outputId": "64abf20f-1959-4213-cdc2-efa315c5ca2b"
      },
      "execution_count": null,
      "outputs": [
        {
          "output_type": "display_data",
          "data": {
            "text/html": [
              "<table class=\"dataframe\">\n",
              "<caption>A tabyl: 3 × 5</caption>\n",
              "<thead>\n",
              "\t<tr><th scope=col>rezago</th><th scope=col>viviendas</th><th scope=col>viviendas_cv</th><th scope=col>prop_viviendas</th><th scope=col>prop_viviendas_cv</th></tr>\n",
              "\t<tr><th scope=col>&lt;chr&gt;</th><th scope=col>&lt;dbl&gt;</th><th scope=col>&lt;dbl&gt;</th><th scope=col>&lt;dbl&gt;</th><th scope=col>&lt;dbl&gt;</th></tr>\n",
              "</thead>\n",
              "<tbody>\n",
              "\t<tr><td>En rezago      </td><td> 5310725</td><td>0.01417899</td><td>0.3289243</td><td>0.012742457</td></tr>\n",
              "\t<tr><td>Fuera de rezago</td><td>10835012</td><td>0.01111819</td><td>0.6710757</td><td>0.006245649</td></tr>\n",
              "\t<tr><td>Total          </td><td>16145737</td><td>0.02529718</td><td>1.0000000</td><td>0.018988106</td></tr>\n",
              "</tbody>\n",
              "</table>\n"
            ],
            "text/markdown": "\nA tabyl: 3 × 5\n\n| rezago &lt;chr&gt; | viviendas &lt;dbl&gt; | viviendas_cv &lt;dbl&gt; | prop_viviendas &lt;dbl&gt; | prop_viviendas_cv &lt;dbl&gt; |\n|---|---|---|---|---|\n| En rezago       |  5310725 | 0.01417899 | 0.3289243 | 0.012742457 |\n| Fuera de rezago | 10835012 | 0.01111819 | 0.6710757 | 0.006245649 |\n| Total           | 16145737 | 0.02529718 | 1.0000000 | 0.018988106 |\n\n",
            "text/latex": "A tabyl: 3 × 5\n\\begin{tabular}{lllll}\n rezago & viviendas & viviendas\\_cv & prop\\_viviendas & prop\\_viviendas\\_cv\\\\\n <chr> & <dbl> & <dbl> & <dbl> & <dbl>\\\\\n\\hline\n\t En rezago       &  5310725 & 0.01417899 & 0.3289243 & 0.012742457\\\\\n\t Fuera de rezago & 10835012 & 0.01111819 & 0.6710757 & 0.006245649\\\\\n\t Total           & 16145737 & 0.02529718 & 1.0000000 & 0.018988106\\\\\n\\end{tabular}\n",
            "text/plain": [
              "  rezago          viviendas viviendas_cv prop_viviendas prop_viviendas_cv\n",
              "1 En rezago        5310725  0.01417899   0.3289243      0.012742457      \n",
              "2 Fuera de rezago 10835012  0.01111819   0.6710757      0.006245649      \n",
              "3 Total           16145737  0.02529718   1.0000000      0.018988106      "
            ]
          },
          "metadata": {}
        }
      ]
    },
    {
      "cell_type": "code",
      "execution_count": null,
      "metadata": {
        "colab": {
          "base_uri": "https://localhost:8080/",
          "height": 161
        },
        "id": "56exeD9uqDa3",
        "outputId": "384a7248-4319-4ff7-9fdc-4e58700111e9"
      },
      "outputs": [
        {
          "output_type": "display_data",
          "data": {
            "text/html": [
              "<table class=\"dataframe\">\n",
              "<caption>A tabyl: 2 × 2</caption>\n",
              "<thead>\n",
              "\t<tr><th scope=col>residentes</th><th scope=col>residentes_cv</th></tr>\n",
              "\t<tr><th scope=col>&lt;chr&gt;</th><th scope=col>&lt;dbl&gt;</th></tr>\n",
              "</thead>\n",
              "<tbody>\n",
              "\t<tr><td>60426775</td><td>0.009749827</td></tr>\n",
              "\t<tr><td>Total   </td><td>0.009749827</td></tr>\n",
              "</tbody>\n",
              "</table>\n"
            ],
            "text/markdown": "\nA tabyl: 2 × 2\n\n| residentes &lt;chr&gt; | residentes_cv &lt;dbl&gt; |\n|---|---|\n| 60426775 | 0.009749827 |\n| Total    | 0.009749827 |\n\n",
            "text/latex": "A tabyl: 2 × 2\n\\begin{tabular}{ll}\n residentes & residentes\\_cv\\\\\n <chr> & <dbl>\\\\\n\\hline\n\t 60426775 & 0.009749827\\\\\n\t Total    & 0.009749827\\\\\n\\end{tabular}\n",
            "text/plain": [
              "  residentes residentes_cv\n",
              "1 60426775   0.009749827  \n",
              "2 Total      0.009749827  "
            ]
          },
          "metadata": {}
        }
      ],
      "source": [
        "# ------------------------------------------------ 4. Total de residentes de viviendas particulares habitadas autoproducidas\n",
        "tot_resid_autoprod <- dm %>%\n",
        "  summarise(residentes = survey_total(tot_resid_autoprod, vartype = \"cv\", level = 0.95)) %>%\n",
        "  janitor::adorn_totals()\n",
        "\n",
        "tot_resid_autoprod"
      ]
    },
    {
      "cell_type": "code",
      "execution_count": null,
      "metadata": {
        "colab": {
          "base_uri": "https://localhost:8080/",
          "height": 161
        },
        "id": "rwUUFShosIW5",
        "outputId": "2c768024-0ad2-4b12-e9cf-9d4bcd4f7ad5"
      },
      "outputs": [
        {
          "output_type": "display_data",
          "data": {
            "text/html": [
              "<table class=\"dataframe\">\n",
              "<caption>A tabyl: 2 × 2</caption>\n",
              "<thead>\n",
              "\t<tr><th scope=col>residentes</th><th scope=col>residentes_cv</th></tr>\n",
              "\t<tr><th scope=col>&lt;chr&gt;</th><th scope=col>&lt;dbl&gt;</th></tr>\n",
              "</thead>\n",
              "<tbody>\n",
              "\t<tr><td>20456722</td><td>0.01655757</td></tr>\n",
              "\t<tr><td>Total   </td><td>0.01655757</td></tr>\n",
              "</tbody>\n",
              "</table>\n"
            ],
            "text/markdown": "\nA tabyl: 2 × 2\n\n| residentes &lt;chr&gt; | residentes_cv &lt;dbl&gt; |\n|---|---|\n| 20456722 | 0.01655757 |\n| Total    | 0.01655757 |\n\n",
            "text/latex": "A tabyl: 2 × 2\n\\begin{tabular}{ll}\n residentes & residentes\\_cv\\\\\n <chr> & <dbl>\\\\\n\\hline\n\t 20456722 & 0.01655757\\\\\n\t Total    & 0.01655757\\\\\n\\end{tabular}\n",
            "text/plain": [
              "  residentes residentes_cv\n",
              "1 20456722   0.01655757   \n",
              "2 Total      0.01655757   "
            ]
          },
          "metadata": {}
        }
      ],
      "source": [
        "# ------------------------------------------------ 5. Total de residentes de viviendas particulares habitadas, autoproducidas y en rezago habitacional\n",
        "tot_resid_autoprod_rezago <- dm %>%\n",
        "  filter(rezago == \"En rezago\") %>%\n",
        "  summarise(residentes = survey_total(tot_resid_autoprod, vartype = \"cv\", level = 0.95)) %>%\n",
        "  janitor::adorn_totals()\n",
        "\n",
        "tot_resid_autoprod_rezago"
      ]
    },
    {
      "cell_type": "code",
      "execution_count": null,
      "metadata": {
        "colab": {
          "base_uri": "https://localhost:8080/",
          "height": 255
        },
        "id": "H-2tR8S1snRh",
        "outputId": "321334f2-dcf5-46e8-e115-a9e67ed43cfc"
      },
      "outputs": [
        {
          "output_type": "display_data",
          "data": {
            "text/html": [
              "<table class=\"dataframe\">\n",
              "<caption>A tabyl: 5 × 3</caption>\n",
              "<thead>\n",
              "\t<tr><th scope=col>est_socio</th><th scope=col>viviendas</th><th scope=col>pct</th></tr>\n",
              "\t<tr><th scope=col>&lt;chr&gt;</th><th scope=col>&lt;dbl&gt;</th><th scope=col>&lt;dbl&gt;</th></tr>\n",
              "</thead>\n",
              "<tbody>\n",
              "\t<tr><td>Bajo      </td><td> 5070986</td><td> 31.4</td></tr>\n",
              "\t<tr><td>Medio bajo</td><td> 9008133</td><td> 55.8</td></tr>\n",
              "\t<tr><td>Medio alto</td><td> 1616700</td><td> 10.0</td></tr>\n",
              "\t<tr><td>Alto      </td><td>  449918</td><td>  2.8</td></tr>\n",
              "\t<tr><td>Total     </td><td>16145737</td><td>100.0</td></tr>\n",
              "</tbody>\n",
              "</table>\n"
            ],
            "text/markdown": "\nA tabyl: 5 × 3\n\n| est_socio &lt;chr&gt; | viviendas &lt;dbl&gt; | pct &lt;dbl&gt; |\n|---|---|---|\n| Bajo       |  5070986 |  31.4 |\n| Medio bajo |  9008133 |  55.8 |\n| Medio alto |  1616700 |  10.0 |\n| Alto       |   449918 |   2.8 |\n| Total      | 16145737 | 100.0 |\n\n",
            "text/latex": "A tabyl: 5 × 3\n\\begin{tabular}{lll}\n est\\_socio & viviendas & pct\\\\\n <chr> & <dbl> & <dbl>\\\\\n\\hline\n\t Bajo       &  5070986 &  31.4\\\\\n\t Medio bajo &  9008133 &  55.8\\\\\n\t Medio alto &  1616700 &  10.0\\\\\n\t Alto       &   449918 &   2.8\\\\\n\t Total      & 16145737 & 100.0\\\\\n\\end{tabular}\n",
            "text/plain": [
              "  est_socio  viviendas pct  \n",
              "1 Bajo        5070986   31.4\n",
              "2 Medio bajo  9008133   55.8\n",
              "3 Medio alto  1616700   10.0\n",
              "4 Alto         449918    2.8\n",
              "5 Total      16145737  100.0"
            ]
          },
          "metadata": {}
        }
      ],
      "source": [
        "# ------------------------------------------------ 6. Porcentaje de viviendas particulares habitadas autoproducidas por estrato socioeconómico\n",
        "pct_vivi_autoprod_est <- dm%>%\n",
        "filter(vivi_autoprod == \"Sí\" )%>%\n",
        "  #Estimación puntual\n",
        "  group_by(est_socio,vivi_autoprod)%>%\n",
        "  summarise(viviendas=survey_total(vartype=\"cv\"))%>%\n",
        "  ungroup()%>%\n",
        "  #Seleccionar columnas est_socio y viviendas\n",
        "  select(est_socio,viviendas)%>%\n",
        "    #Calcula porcentaje\n",
        "    mutate(pct=round(viviendas/sum(viviendas)*100,1),\n",
        "    est_socio=case_when(est_socio==1 ~ \"Bajo\",\n",
        "                        est_socio==2 ~ \"Medio bajo\",\n",
        "                        est_socio==3 ~ \"Medio alto\",\n",
        "                        est_socio==4 ~ \"Alto\")\n",
        "\n",
        "    )%>%\n",
        "    janitor::adorn_totals(\"row\")\n",
        "\n",
        "pct_vivi_autoprod_est"
      ]
    },
    {
      "cell_type": "code",
      "execution_count": null,
      "metadata": {
        "colab": {
          "base_uri": "https://localhost:8080/",
          "height": 192
        },
        "id": "7peA7ec_s5h9",
        "outputId": "2c223084-e407-4903-e57b-f26e53abe570"
      },
      "outputs": [
        {
          "output_type": "display_data",
          "data": {
            "text/html": [
              "<table class=\"dataframe\">\n",
              "<caption>A tabyl: 3 × 5</caption>\n",
              "<thead>\n",
              "\t<tr><th scope=col>tam_loc</th><th scope=col>viviendas</th><th scope=col>viviendas_cv</th><th scope=col>pct</th><th scope=col>pct_cv</th></tr>\n",
              "\t<tr><th scope=col>&lt;chr&gt;</th><th scope=col>&lt;dbl&gt;</th><th scope=col>&lt;dbl&gt;</th><th scope=col>&lt;dbl&gt;</th><th scope=col>&lt;dbl&gt;</th></tr>\n",
              "</thead>\n",
              "<tbody>\n",
              "\t<tr><td>Rural </td><td> 5965595</td><td>0.009505942</td><td>0.3694842</td><td>0.009648745</td></tr>\n",
              "\t<tr><td>Urbano</td><td>10180142</td><td>0.011991514</td><td>0.6305158</td><td>0.005654195</td></tr>\n",
              "\t<tr><td>Total </td><td>16145737</td><td>0.021497456</td><td>1.0000000</td><td>0.015302940</td></tr>\n",
              "</tbody>\n",
              "</table>\n"
            ],
            "text/markdown": "\nA tabyl: 3 × 5\n\n| tam_loc &lt;chr&gt; | viviendas &lt;dbl&gt; | viviendas_cv &lt;dbl&gt; | pct &lt;dbl&gt; | pct_cv &lt;dbl&gt; |\n|---|---|---|---|---|\n| Rural  |  5965595 | 0.009505942 | 0.3694842 | 0.009648745 |\n| Urbano | 10180142 | 0.011991514 | 0.6305158 | 0.005654195 |\n| Total  | 16145737 | 0.021497456 | 1.0000000 | 0.015302940 |\n\n",
            "text/latex": "A tabyl: 3 × 5\n\\begin{tabular}{lllll}\n tam\\_loc & viviendas & viviendas\\_cv & pct & pct\\_cv\\\\\n <chr> & <dbl> & <dbl> & <dbl> & <dbl>\\\\\n\\hline\n\t Rural  &  5965595 & 0.009505942 & 0.3694842 & 0.009648745\\\\\n\t Urbano & 10180142 & 0.011991514 & 0.6305158 & 0.005654195\\\\\n\t Total  & 16145737 & 0.021497456 & 1.0000000 & 0.015302940\\\\\n\\end{tabular}\n",
            "text/plain": [
              "  tam_loc viviendas viviendas_cv pct       pct_cv     \n",
              "1 Rural    5965595  0.009505942  0.3694842 0.009648745\n",
              "2 Urbano  10180142  0.011991514  0.6305158 0.005654195\n",
              "3 Total   16145737  0.021497456  1.0000000 0.015302940"
            ]
          },
          "metadata": {}
        }
      ],
      "source": [
        "# ------------------------------------------------ 7. Porcentaje de viviendas particulares habitadas autoproducidas por tamaño de localidad\n",
        "pct_vivi_autoprod_loc <- dm %>%\n",
        "  filter(vivi_autoprod == \"Sí\" )%>%\n",
        "  group_by(tam_loc) %>%\n",
        "  mutate(tam_loc = case_when(tam_loc == 4 ~ \"Rural\", TRUE ~ \"Urbano\")) %>%\n",
        "  summarise(\n",
        "    viviendas = survey_total(vartype = \"cv\"),\n",
        "    pct = survey_prop(vartype = \"cv\")\n",
        "  ) %>%\n",
        "  ungroup() %>%\n",
        "  janitor::adorn_totals()\n",
        "\n",
        "pct_vivi_autoprod_loc"
      ]
    },
    {
      "cell_type": "code",
      "execution_count": null,
      "metadata": {
        "colab": {
          "base_uri": "https://localhost:8080/",
          "height": 192
        },
        "id": "-Y6pjSIZs_OP",
        "outputId": "9602ed14-ce36-4ffd-e17f-ae1d4fbf37a0"
      },
      "outputs": [
        {
          "output_type": "display_data",
          "data": {
            "text/html": [
              "<table class=\"dataframe\">\n",
              "<caption>A tabyl: 3 × 5</caption>\n",
              "<thead>\n",
              "\t<tr><th scope=col>tenencia</th><th scope=col>viviendas</th><th scope=col>viviendas_cv</th><th scope=col>pct</th><th scope=col>pct_cv</th></tr>\n",
              "\t<tr><th scope=col>&lt;chr&gt;</th><th scope=col>&lt;dbl&gt;</th><th scope=col>&lt;dbl&gt;</th><th scope=col>&lt;dbl&gt;</th><th scope=col>&lt;dbl&gt;</th></tr>\n",
              "</thead>\n",
              "<tbody>\n",
              "\t<tr><td>Es propia pero la están pagando</td><td>  175956</td><td>0.060802190</td><td>0.01089799</td><td>0.0606072843</td></tr>\n",
              "\t<tr><td>\tEs propia                    </td><td>15969781</td><td>0.008393368</td><td>0.98910201</td><td>0.0006677747</td></tr>\n",
              "\t<tr><td>Total                          </td><td>16145737</td><td>0.069195558</td><td>1.00000000</td><td>0.0612750589</td></tr>\n",
              "</tbody>\n",
              "</table>\n"
            ],
            "text/markdown": "\nA tabyl: 3 × 5\n\n| tenencia &lt;chr&gt; | viviendas &lt;dbl&gt; | viviendas_cv &lt;dbl&gt; | pct &lt;dbl&gt; | pct_cv &lt;dbl&gt; |\n|---|---|---|---|---|\n| Es propia pero la están pagando |   175956 | 0.060802190 | 0.01089799 | 0.0606072843 |\n| \tEs propia                     | 15969781 | 0.008393368 | 0.98910201 | 0.0006677747 |\n| Total                           | 16145737 | 0.069195558 | 1.00000000 | 0.0612750589 |\n\n",
            "text/latex": "A tabyl: 3 × 5\n\\begin{tabular}{lllll}\n tenencia & viviendas & viviendas\\_cv & pct & pct\\_cv\\\\\n <chr> & <dbl> & <dbl> & <dbl> & <dbl>\\\\\n\\hline\n\t Es propia pero la están pagando &   175956 & 0.060802190 & 0.01089799 & 0.0606072843\\\\\n\t \tEs propia                     & 15969781 & 0.008393368 & 0.98910201 & 0.0006677747\\\\\n\t Total                           & 16145737 & 0.069195558 & 1.00000000 & 0.0612750589\\\\\n\\end{tabular}\n",
            "text/plain": [
              "  tenencia                        viviendas viviendas_cv pct       \n",
              "1 Es propia pero la están pagando   175956  0.060802190  0.01089799\n",
              "2 \\tEs propia                     15969781  0.008393368  0.98910201\n",
              "3 Total                           16145737  0.069195558  1.00000000\n",
              "  pct_cv      \n",
              "1 0.0606072843\n",
              "2 0.0006677747\n",
              "3 0.0612750589"
            ]
          },
          "metadata": {}
        }
      ],
      "source": [
        "# ------------------------------------------------ 8. Porcentaje de viviendas particulares habitadas autoproducidas respecto del total de viviendas propias y en proceso de pago.\n",
        "pct_vivi_pagos <- dm %>%\n",
        "  filter(vivi_autoprod == \"Sí\" & (tenencia %in% c(3, 4))) %>%\n",
        "  group_by(tenencia) %>%\n",
        "  summarise(viviendas = survey_total(vartype = \"cv\"),\n",
        "            pct = survey_prop(vartype = \"cv\"))%>%\n",
        "                mutate(\n",
        "    tenencia = case_when(\n",
        "      tenencia == 3 ~ \"Es propia pero la están pagando\",\n",
        "      tenencia == 4 ~ \"\tEs propia\",\n",
        "      TRUE ~ \"No especificado\"\n",
        "    )\n",
        "  ) %>%\n",
        "    janitor::adorn_totals()\n",
        "\n",
        "  pct_vivi_pagos"
      ]
    },
    {
      "cell_type": "code",
      "execution_count": null,
      "metadata": {
        "colab": {
          "base_uri": "https://localhost:8080/",
          "height": 223
        },
        "id": "iQcLaYI_tIqo",
        "outputId": "d1a41df2-4290-412d-beb7-fc43e79eaefa"
      },
      "outputs": [
        {
          "output_type": "display_data",
          "data": {
            "text/html": [
              "<table class=\"dataframe\">\n",
              "<caption>A tabyl: 4 × 5</caption>\n",
              "<thead>\n",
              "\t<tr><th scope=col>ic_sbv</th><th scope=col>viviendas</th><th scope=col>viviendas_cv</th><th scope=col>porcentaje</th><th scope=col>porcentaje_cv</th></tr>\n",
              "\t<tr><th scope=col>&lt;chr&gt;</th><th scope=col>&lt;dbl&gt;</th><th scope=col>&lt;dbl&gt;</th><th scope=col>&lt;dbl&gt;</th><th scope=col>&lt;dbl&gt;</th></tr>\n",
              "</thead>\n",
              "<tbody>\n",
              "\t<tr><td>No presenta carencia</td><td> 9597245</td><td>0.01223492</td><td>0.5944136</td><td>0.008053477</td></tr>\n",
              "\t<tr><td>Presenta carencia   </td><td> 3424251</td><td>0.02040649</td><td>0.2120839</td><td>0.019378173</td></tr>\n",
              "\t<tr><td>No especificado     </td><td> 3124241</td><td>0.01784330</td><td>0.1935025</td><td>0.016268615</td></tr>\n",
              "\t<tr><td>Total               </td><td>16145737</td><td>0.05048472</td><td>1.0000000</td><td>0.043700265</td></tr>\n",
              "</tbody>\n",
              "</table>\n"
            ],
            "text/markdown": "\nA tabyl: 4 × 5\n\n| ic_sbv &lt;chr&gt; | viviendas &lt;dbl&gt; | viviendas_cv &lt;dbl&gt; | porcentaje &lt;dbl&gt; | porcentaje_cv &lt;dbl&gt; |\n|---|---|---|---|---|\n| No presenta carencia |  9597245 | 0.01223492 | 0.5944136 | 0.008053477 |\n| Presenta carencia    |  3424251 | 0.02040649 | 0.2120839 | 0.019378173 |\n| No especificado      |  3124241 | 0.01784330 | 0.1935025 | 0.016268615 |\n| Total                | 16145737 | 0.05048472 | 1.0000000 | 0.043700265 |\n\n",
            "text/latex": "A tabyl: 4 × 5\n\\begin{tabular}{lllll}\n ic\\_sbv & viviendas & viviendas\\_cv & porcentaje & porcentaje\\_cv\\\\\n <chr> & <dbl> & <dbl> & <dbl> & <dbl>\\\\\n\\hline\n\t No presenta carencia &  9597245 & 0.01223492 & 0.5944136 & 0.008053477\\\\\n\t Presenta carencia    &  3424251 & 0.02040649 & 0.2120839 & 0.019378173\\\\\n\t No especificado      &  3124241 & 0.01784330 & 0.1935025 & 0.016268615\\\\\n\t Total                & 16145737 & 0.05048472 & 1.0000000 & 0.043700265\\\\\n\\end{tabular}\n",
            "text/plain": [
              "  ic_sbv               viviendas viviendas_cv porcentaje porcentaje_cv\n",
              "1 No presenta carencia  9597245  0.01223492   0.5944136  0.008053477  \n",
              "2 Presenta carencia     3424251  0.02040649   0.2120839  0.019378173  \n",
              "3 No especificado       3124241  0.01784330   0.1935025  0.016268615  \n",
              "4 Total                16145737  0.05048472   1.0000000  0.043700265  "
            ]
          },
          "metadata": {}
        }
      ],
      "source": [
        "# ------------------------------------------------ 9. Porcentaje de viviendas particulares habitadas autoproducidas con carencia por servicios básicos en la vivienda\n",
        "pct_vivi_serv <- dm %>%\n",
        "    filter(vivi_autoprod == \"Sí\") %>%\n",
        "    group_by(ic_sbv) %>%\n",
        "    summarise(\n",
        "    viviendas = survey_total(vartype = \"cv\", level = 0.95),\n",
        "    porcentaje = survey_prop(vartype = \"cv\", level = 0.95)) %>%\n",
        "    mutate(\n",
        "    ic_sbv = case_when(\n",
        "      ic_sbv == 0 ~ \"No presenta carencia\",\n",
        "      ic_sbv == 1 ~ \"Presenta carencia\",\n",
        "      TRUE ~ \"No especificado\"\n",
        "    ))%>%\n",
        "  janitor::adorn_totals()\n",
        "\n",
        "pct_vivi_serv"
      ]
    },
    {
      "cell_type": "code",
      "execution_count": null,
      "metadata": {
        "colab": {
          "base_uri": "https://localhost:8080/",
          "height": 192
        },
        "id": "QVGm67B2tNMd",
        "outputId": "2513bdbb-4486-4917-955a-c2f491950024"
      },
      "outputs": [
        {
          "output_type": "display_data",
          "data": {
            "text/html": [
              "<table class=\"dataframe\">\n",
              "<caption>A tabyl: 3 × 3</caption>\n",
              "<thead>\n",
              "\t<tr><th scope=col>hacinamiento</th><th scope=col>viviendas</th><th scope=col>viviendas_cv</th></tr>\n",
              "\t<tr><th scope=col>&lt;chr&gt;</th><th scope=col>&lt;dbl&gt;</th><th scope=col>&lt;dbl&gt;</th></tr>\n",
              "</thead>\n",
              "<tbody>\n",
              "\t<tr><td>No presenta condición de hacinamiento</td><td>15493279</td><td>0.008510755</td></tr>\n",
              "\t<tr><td>Presenta condición de hacinamiento   </td><td>  652458</td><td>0.038639864</td></tr>\n",
              "\t<tr><td>Total                                </td><td>16145737</td><td>0.047150619</td></tr>\n",
              "</tbody>\n",
              "</table>\n"
            ],
            "text/markdown": "\nA tabyl: 3 × 3\n\n| hacinamiento &lt;chr&gt; | viviendas &lt;dbl&gt; | viviendas_cv &lt;dbl&gt; |\n|---|---|---|\n| No presenta condición de hacinamiento | 15493279 | 0.008510755 |\n| Presenta condición de hacinamiento    |   652458 | 0.038639864 |\n| Total                                 | 16145737 | 0.047150619 |\n\n",
            "text/latex": "A tabyl: 3 × 3\n\\begin{tabular}{lll}\n hacinamiento & viviendas & viviendas\\_cv\\\\\n <chr> & <dbl> & <dbl>\\\\\n\\hline\n\t No presenta condición de hacinamiento & 15493279 & 0.008510755\\\\\n\t Presenta condición de hacinamiento    &   652458 & 0.038639864\\\\\n\t Total                                 & 16145737 & 0.047150619\\\\\n\\end{tabular}\n",
            "text/plain": [
              "  hacinamiento                          viviendas viviendas_cv\n",
              "1 No presenta condición de hacinamiento 15493279  0.008510755 \n",
              "2 Presenta condición de hacinamiento      652458  0.038639864 \n",
              "3 Total                                 16145737  0.047150619 "
            ]
          },
          "metadata": {}
        }
      ],
      "source": [
        "# ------------------------------------------------ 10. Total de viviendas particulares habitadas autoproducidas en condición de hacinamiento\n",
        "tot_vivi_hac <-dm %>%\n",
        "    filter(vivi_autoprod == \"Sí\") %>%\n",
        "    group_by(hacinamiento) %>%\n",
        "    summarise(\n",
        "    viviendas = survey_total(vartype = \"cv\", level = 0.95)\n",
        "    ) %>%\n",
        "    mutate(\n",
        "    hacinamiento = case_when(\n",
        "      hacinamiento == 0 ~ \"No presenta condición de hacinamiento\",\n",
        "      hacinamiento == 1 ~ \"Presenta condición de hacinamiento\",\n",
        "      TRUE ~ \"No especificado\"\n",
        "    )\n",
        "  ) %>%\n",
        "  janitor::adorn_totals()\n",
        "tot_vivi_hac"
      ]
    },
    {
      "cell_type": "code",
      "execution_count": null,
      "metadata": {
        "colab": {
          "base_uri": "https://localhost:8080/",
          "height": 474
        },
        "id": "r1b9luzntQvG",
        "outputId": "c2453282-b69a-4579-db09-f14f16f28e0a"
      },
      "outputs": [
        {
          "output_type": "display_data",
          "data": {
            "text/html": [
              "<table class=\"dataframe\">\n",
              "<caption>A tabyl: 12 × 4</caption>\n",
              "<thead>\n",
              "\t<tr><th scope=col>catego</th><th scope=col>viviendas</th><th scope=col>viviendas_cv</th><th scope=col>pct</th></tr>\n",
              "\t<tr><th scope=col>&lt;fct&gt;</th><th scope=col>&lt;dbl&gt;</th><th scope=col>&lt;dbl&gt;</th><th scope=col>&lt;dbl&gt;</th></tr>\n",
              "</thead>\n",
              "<tbody>\n",
              "\t<tr><td>0 y menos de 5 años  </td><td>   24643</td><td>0.16632373</td><td>  0</td></tr>\n",
              "\t<tr><td>10 y menos de 20 años</td><td> 3987518</td><td>0.01541123</td><td> 27</td></tr>\n",
              "\t<tr><td>20 y menos de 30 años</td><td> 3704049</td><td>0.01732275</td><td> 25</td></tr>\n",
              "\t<tr><td>30 y menos de 40 años</td><td> 2560059</td><td>0.01906267</td><td> 18</td></tr>\n",
              "\t<tr><td>40 y menos de 50 años</td><td> 1464979</td><td>0.02568718</td><td> 10</td></tr>\n",
              "\t<tr><td>5 y menos de 10 años </td><td> 1772632</td><td>0.02375868</td><td> 12</td></tr>\n",
              "\t<tr><td>50 y menos de 60 años</td><td>  662278</td><td>0.03924789</td><td>  5</td></tr>\n",
              "\t<tr><td>60 y menos de 70 años</td><td>  227908</td><td>0.06057870</td><td>  2</td></tr>\n",
              "\t<tr><td>70 y menos de 80 años</td><td>   84435</td><td>0.09048110</td><td>  1</td></tr>\n",
              "\t<tr><td>80 y menos de 90 años</td><td>   39097</td><td>0.13275257</td><td>  0</td></tr>\n",
              "\t<tr><td>Más de 90 años       </td><td>   44476</td><td>0.13421347</td><td>  0</td></tr>\n",
              "\t<tr><td>Total                </td><td>14572074</td><td>0.72483997</td><td>100</td></tr>\n",
              "</tbody>\n",
              "</table>\n"
            ],
            "text/markdown": "\nA tabyl: 12 × 4\n\n| catego &lt;fct&gt; | viviendas &lt;dbl&gt; | viviendas_cv &lt;dbl&gt; | pct &lt;dbl&gt; |\n|---|---|---|---|\n| 0 y menos de 5 años   |    24643 | 0.16632373 |   0 |\n| 10 y menos de 20 años |  3987518 | 0.01541123 |  27 |\n| 20 y menos de 30 años |  3704049 | 0.01732275 |  25 |\n| 30 y menos de 40 años |  2560059 | 0.01906267 |  18 |\n| 40 y menos de 50 años |  1464979 | 0.02568718 |  10 |\n| 5 y menos de 10 años  |  1772632 | 0.02375868 |  12 |\n| 50 y menos de 60 años |   662278 | 0.03924789 |   5 |\n| 60 y menos de 70 años |   227908 | 0.06057870 |   2 |\n| 70 y menos de 80 años |    84435 | 0.09048110 |   1 |\n| 80 y menos de 90 años |    39097 | 0.13275257 |   0 |\n| Más de 90 años        |    44476 | 0.13421347 |   0 |\n| Total                 | 14572074 | 0.72483997 | 100 |\n\n",
            "text/latex": "A tabyl: 12 × 4\n\\begin{tabular}{llll}\n catego & viviendas & viviendas\\_cv & pct\\\\\n <fct> & <dbl> & <dbl> & <dbl>\\\\\n\\hline\n\t 0 y menos de 5 años   &    24643 & 0.16632373 &   0\\\\\n\t 10 y menos de 20 años &  3987518 & 0.01541123 &  27\\\\\n\t 20 y menos de 30 años &  3704049 & 0.01732275 &  25\\\\\n\t 30 y menos de 40 años &  2560059 & 0.01906267 &  18\\\\\n\t 40 y menos de 50 años &  1464979 & 0.02568718 &  10\\\\\n\t 5 y menos de 10 años  &  1772632 & 0.02375868 &  12\\\\\n\t 50 y menos de 60 años &   662278 & 0.03924789 &   5\\\\\n\t 60 y menos de 70 años &   227908 & 0.06057870 &   2\\\\\n\t 70 y menos de 80 años &    84435 & 0.09048110 &   1\\\\\n\t 80 y menos de 90 años &    39097 & 0.13275257 &   0\\\\\n\t Más de 90 años        &    44476 & 0.13421347 &   0\\\\\n\t Total                 & 14572074 & 0.72483997 & 100\\\\\n\\end{tabular}\n",
            "text/plain": [
              "   catego                viviendas viviendas_cv pct\n",
              "1  0 y menos de 5 años      24643  0.16632373     0\n",
              "2  10 y menos de 20 años  3987518  0.01541123    27\n",
              "3  20 y menos de 30 años  3704049  0.01732275    25\n",
              "4  30 y menos de 40 años  2560059  0.01906267    18\n",
              "5  40 y menos de 50 años  1464979  0.02568718    10\n",
              "6  5 y menos de 10 años   1772632  0.02375868    12\n",
              "7  50 y menos de 60 años   662278  0.03924789     5\n",
              "8  60 y menos de 70 años   227908  0.06057870     2\n",
              "9  70 y menos de 80 años    84435  0.09048110     1\n",
              "10 80 y menos de 90 años    39097  0.13275257     0\n",
              "11 Más de 90 años           44476  0.13421347     0\n",
              "12 Total                 14572074  0.72483997   100"
            ]
          },
          "metadata": {}
        }
      ],
      "source": [
        "# ------------------------------------------------ 11. Porcentaje de viviendas particulares habitadas autoproducidas por antigüedad de la vivienda\n",
        "tot_vivi_ant <- dm %>%\n",
        "filter(vivi_autoprod == \"Sí\")%>%\n",
        "#Crear variables de antigüedad\n",
        "  mutate(catego=case_when(antiguedad==0 & antiguedad<5 ~ \"0 y menos de 5 años\",\n",
        "                          antiguedad>=5 & antiguedad<10 ~ \"5 y menos de 10 años\",\n",
        "                          antiguedad>=10 & antiguedad<20 ~ \"10 y menos de 20 años\",\n",
        "                          antiguedad>=20 & antiguedad<30 ~ \"20 y menos de 30 años\",\n",
        "                          antiguedad>=30 & antiguedad<40 ~ \"30 y menos de 40 años\",\n",
        "                          antiguedad>=40 & antiguedad<50 ~ \"40 y menos de 50 años\",\n",
        "                          antiguedad>=50 & antiguedad<60 ~ \"50 y menos de 60 años\",\n",
        "                          antiguedad>=60 & antiguedad<70 ~ \"60 y menos de 70 años\",\n",
        "                          antiguedad>=70 & antiguedad<80 ~ \"70 y menos de 80 años\",\n",
        "                          antiguedad>=80 & antiguedad<90 ~ \"80 y menos de 90 años\",\n",
        "                          antiguedad>=90 ~ \"Más de 90 años\",\n",
        "                          TRUE ~ \"No especificado\"))%>%\n",
        "  #Crear un grupo para crear las categorias\n",
        "  group_by(catego)%>%\n",
        "  summarise(viviendas=survey_total(vartype = \"cv\"))%>%\n",
        "  ungroup()%>%\n",
        "  filter(catego!=\"No especificado\")%>%\n",
        "  #Calcular porcentajes\n",
        "  mutate(pct=round(viviendas/sum(viviendas)*100),\n",
        "  #Ordenar las categorías\n",
        "  catego=fct_relevel(catego,\"0 y menos de 5 años\",\n",
        "                     \"5 y menos de 10 años\",\n",
        "                     \"10 y menos de 20 años\",\n",
        "                     \"20 y menos de 30 años\",\n",
        "                     \"30 y menos de 40 años\",\n",
        "                     \"40 y menos de 50 años\",\n",
        "                     \"50 y menos de 60 años\",\n",
        "                     \"60 y menos de 70 años\",\n",
        "                     \"70 y menos de 80 años\",\n",
        "                     \"80 y menos de 90 años\",\n",
        "                     \"Más de 90 años\"))%>%\n",
        "                         janitor::adorn_totals()\n",
        "                       tot_vivi_ant"
      ]
    },
    {
      "cell_type": "code",
      "execution_count": null,
      "metadata": {
        "colab": {
          "base_uri": "https://localhost:8080/",
          "height": 223
        },
        "id": "sKn9tz0QtVeH",
        "outputId": "041c4197-9c80-4f8a-a78f-043eb23f9f13"
      },
      "outputs": [
        {
          "output_type": "display_data",
          "data": {
            "text/html": [
              "<table class=\"dataframe\">\n",
              "<caption>A tabyl: 4 × 5</caption>\n",
              "<thead>\n",
              "\t<tr><th scope=col>cocina_dor</th><th scope=col>viviendas</th><th scope=col>viviendas_cv</th><th scope=col>pct</th><th scope=col>pct_cv</th></tr>\n",
              "\t<tr><th scope=col>&lt;chr&gt;</th><th scope=col>&lt;dbl&gt;</th><th scope=col>&lt;dbl&gt;</th><th scope=col>&lt;dbl&gt;</th><th scope=col>&lt;dbl&gt;</th></tr>\n",
              "</thead>\n",
              "<tbody>\n",
              "\t<tr><td>Sí             </td><td>  828716</td><td>0.032530711</td><td>0.05132723</td><td>0.031148147</td></tr>\n",
              "\t<tr><td>No             </td><td>14202722</td><td>0.008917013</td><td>0.87965771</td><td>0.002758253</td></tr>\n",
              "\t<tr><td>No especificado</td><td> 1114299</td><td>0.028383669</td><td>0.06901506</td><td>0.027939407</td></tr>\n",
              "\t<tr><td>Total          </td><td>16145737</td><td>0.069831393</td><td>1.00000000</td><td>0.061845807</td></tr>\n",
              "</tbody>\n",
              "</table>\n"
            ],
            "text/markdown": "\nA tabyl: 4 × 5\n\n| cocina_dor &lt;chr&gt; | viviendas &lt;dbl&gt; | viviendas_cv &lt;dbl&gt; | pct &lt;dbl&gt; | pct_cv &lt;dbl&gt; |\n|---|---|---|---|---|\n| Sí              |   828716 | 0.032530711 | 0.05132723 | 0.031148147 |\n| No              | 14202722 | 0.008917013 | 0.87965771 | 0.002758253 |\n| No especificado |  1114299 | 0.028383669 | 0.06901506 | 0.027939407 |\n| Total           | 16145737 | 0.069831393 | 1.00000000 | 0.061845807 |\n\n",
            "text/latex": "A tabyl: 4 × 5\n\\begin{tabular}{lllll}\n cocina\\_dor & viviendas & viviendas\\_cv & pct & pct\\_cv\\\\\n <chr> & <dbl> & <dbl> & <dbl> & <dbl>\\\\\n\\hline\n\t Sí              &   828716 & 0.032530711 & 0.05132723 & 0.031148147\\\\\n\t No              & 14202722 & 0.008917013 & 0.87965771 & 0.002758253\\\\\n\t No especificado &  1114299 & 0.028383669 & 0.06901506 & 0.027939407\\\\\n\t Total           & 16145737 & 0.069831393 & 1.00000000 & 0.061845807\\\\\n\\end{tabular}\n",
            "text/plain": [
              "  cocina_dor      viviendas viviendas_cv pct        pct_cv     \n",
              "1 Sí                828716  0.032530711  0.05132723 0.031148147\n",
              "2 No              14202722  0.008917013  0.87965771 0.002758253\n",
              "3 No especificado  1114299  0.028383669  0.06901506 0.027939407\n",
              "4 Total           16145737  0.069831393  1.00000000 0.061845807"
            ]
          },
          "metadata": {}
        }
      ],
      "source": [
        "# ------------------------------------------------ 12. Porcentaje de viviendas particulares habitadas autoproducidas con cocina dormitorio\n",
        " pct_vivi_cdorm <- dm %>%\n",
        "    filter(vivi_autoprod == \"Sí\") %>%\n",
        "    group_by(cocina_dor) %>%\n",
        "    summarise(\n",
        "    viviendas = survey_total(vartype = \"cv\", level = 0.95),\n",
        "    pct = survey_prop(vartype = \"cv\")) %>%\n",
        "    mutate(\n",
        "    cocina_dor = case_when(\n",
        "      cocina_dor == 1 ~ \"Sí\",\n",
        "      cocina_dor == 2 ~ \"No\",\n",
        "      TRUE ~ \"No especificado\"\n",
        "    )\n",
        "  ) %>%\n",
        "  janitor::adorn_totals()\n",
        "\n",
        "pct_vivi_cdorm"
      ]
    },
    {
      "cell_type": "code",
      "execution_count": null,
      "metadata": {
        "colab": {
          "base_uri": "https://localhost:8080/",
          "height": 317
        },
        "id": "DgNnMOBpta0d",
        "outputId": "ede12117-5fb1-42c6-c6ce-31b99524dd6a"
      },
      "outputs": [
        {
          "output_type": "display_data",
          "data": {
            "text/html": [
              "<table class=\"dataframe\">\n",
              "<caption>A tabyl: 7 × 5</caption>\n",
              "<thead>\n",
              "\t<tr><th scope=col>tipo_finan</th><th scope=col>viviendas</th><th scope=col>viviendas_cv</th><th scope=col>pct</th><th scope=col>pct_cv</th></tr>\n",
              "\t<tr><th scope=col>&lt;chr&gt;</th><th scope=col>&lt;dbl&gt;</th><th scope=col>&lt;dbl&gt;</th><th scope=col>&lt;dbl&gt;</th><th scope=col>&lt;dbl&gt;</th></tr>\n",
              "</thead>\n",
              "<tbody>\n",
              "\t<tr><td>No especificado                           </td><td>   61838</td><td>0.115265136</td><td>0.003829989</td><td>0.115152848</td></tr>\n",
              "\t<tr><td>Crédito el INFONAVIT, FOVISSSTE o FONHAPO </td><td>  391548</td><td>0.046082803</td><td>0.024250860</td><td>0.045586648</td></tr>\n",
              "\t<tr><td>Crédito un banco, SOFOL o caja de ahorro  </td><td>  606987</td><td>0.039105488</td><td>0.037594258</td><td>0.038174895</td></tr>\n",
              "\t<tr><td>Le dió crédito otra institución           </td><td>  350906</td><td>0.052485066</td><td>0.021733663</td><td>0.051924738</td></tr>\n",
              "\t<tr><td>Le prestó un familiar, amigo o prestamista</td><td>  637707</td><td>0.038438203</td><td>0.039496928</td><td>0.037798081</td></tr>\n",
              "\t<tr><td>Usó sus propios recursos                  </td><td>14096751</td><td>0.008974372</td><td>0.873094303</td><td>0.003012876</td></tr>\n",
              "\t<tr><td>Total                                     </td><td>16145737</td><td>0.300351069</td><td>1.000000001</td><td>0.291650086</td></tr>\n",
              "</tbody>\n",
              "</table>\n"
            ],
            "text/markdown": "\nA tabyl: 7 × 5\n\n| tipo_finan &lt;chr&gt; | viviendas &lt;dbl&gt; | viviendas_cv &lt;dbl&gt; | pct &lt;dbl&gt; | pct_cv &lt;dbl&gt; |\n|---|---|---|---|---|\n| No especificado                            |    61838 | 0.115265136 | 0.003829989 | 0.115152848 |\n| Crédito el INFONAVIT, FOVISSSTE o FONHAPO  |   391548 | 0.046082803 | 0.024250860 | 0.045586648 |\n| Crédito un banco, SOFOL o caja de ahorro   |   606987 | 0.039105488 | 0.037594258 | 0.038174895 |\n| Le dió crédito otra institución            |   350906 | 0.052485066 | 0.021733663 | 0.051924738 |\n| Le prestó un familiar, amigo o prestamista |   637707 | 0.038438203 | 0.039496928 | 0.037798081 |\n| Usó sus propios recursos                   | 14096751 | 0.008974372 | 0.873094303 | 0.003012876 |\n| Total                                      | 16145737 | 0.300351069 | 1.000000001 | 0.291650086 |\n\n",
            "text/latex": "A tabyl: 7 × 5\n\\begin{tabular}{lllll}\n tipo\\_finan & viviendas & viviendas\\_cv & pct & pct\\_cv\\\\\n <chr> & <dbl> & <dbl> & <dbl> & <dbl>\\\\\n\\hline\n\t No especificado                            &    61838 & 0.115265136 & 0.003829989 & 0.115152848\\\\\n\t Crédito el INFONAVIT, FOVISSSTE o FONHAPO  &   391548 & 0.046082803 & 0.024250860 & 0.045586648\\\\\n\t Crédito un banco, SOFOL o caja de ahorro   &   606987 & 0.039105488 & 0.037594258 & 0.038174895\\\\\n\t Le dió crédito otra institución            &   350906 & 0.052485066 & 0.021733663 & 0.051924738\\\\\n\t Le prestó un familiar, amigo o prestamista &   637707 & 0.038438203 & 0.039496928 & 0.037798081\\\\\n\t Usó sus propios recursos                   & 14096751 & 0.008974372 & 0.873094303 & 0.003012876\\\\\n\t Total                                      & 16145737 & 0.300351069 & 1.000000001 & 0.291650086\\\\\n\\end{tabular}\n",
            "text/plain": [
              "  tipo_finan                                 viviendas viviendas_cv pct        \n",
              "1 No especificado                               61838  0.115265136  0.003829989\n",
              "2 Crédito el INFONAVIT, FOVISSSTE o FONHAPO    391548  0.046082803  0.024250860\n",
              "3 Crédito un banco, SOFOL o caja de ahorro     606987  0.039105488  0.037594258\n",
              "4 Le dió crédito otra institución              350906  0.052485066  0.021733663\n",
              "5 Le prestó un familiar, amigo o prestamista   637707  0.038438203  0.039496928\n",
              "6 Usó sus propios recursos                   14096751  0.008974372  0.873094303\n",
              "7 Total                                      16145737  0.300351069  1.000000001\n",
              "  pct_cv     \n",
              "1 0.115152848\n",
              "2 0.045586648\n",
              "3 0.038174895\n",
              "4 0.051924738\n",
              "5 0.037798081\n",
              "6 0.003012876\n",
              "7 0.291650086"
            ]
          },
          "metadata": {}
        }
      ],
      "source": [
        "# ------------------------------------------------ 13. Porcentaje de viviendas particulares habitadas autoproducidas por tipo de financiamiento\n",
        " pct_vivi_tipofin <- dm %>%\n",
        "    filter(vivi_autoprod == \"Sí\") %>%\n",
        "    group_by(tipo_finan) %>%\n",
        "    summarise(\n",
        "    viviendas = survey_total(vartype = c(\"cv\"), level = 0.95),\n",
        "    pct = survey_prop(vartype = \"cv\")) %>%\n",
        "    mutate(\n",
        "    tipo_finan = case_when(\n",
        "      tipo_finan == 1 ~ \"Crédito el INFONAVIT, FOVISSSTE o FONHAPO\",\n",
        "      tipo_finan == 2 ~ \"Crédito un banco, SOFOL o caja de ahorro\",\n",
        "      tipo_finan == 3 ~ \"Le dió crédito otra institución\",\n",
        "      tipo_finan == 4 ~ \"Le prestó un familiar, amigo o prestamista\",\n",
        "      tipo_finan == 5 ~ \"Usó sus propios recursos\",\n",
        "      TRUE ~ \"No especificado\"\n",
        "    )\n",
        "  ) %>%\n",
        "  janitor::adorn_totals()\n",
        "\n",
        " pct_vivi_tipofin\n"
      ]
    },
    {
      "cell_type": "code",
      "execution_count": null,
      "metadata": {
        "colab": {
          "base_uri": "https://localhost:8080/",
          "height": 255
        },
        "id": "adC722fatm0G",
        "outputId": "78f63b41-0342-4a13-baef-f7d3e12b6d0b"
      },
      "outputs": [
        {
          "output_type": "display_data",
          "data": {
            "text/html": [
              "<table class=\"dataframe\">\n",
              "<caption>A tabyl: 5 × 5</caption>\n",
              "<thead>\n",
              "\t<tr><th scope=col>escrituras</th><th scope=col>viviendas</th><th scope=col>viviendas_cv</th><th scope=col>pct</th><th scope=col>pct_cv</th></tr>\n",
              "\t<tr><th scope=col>&lt;chr&gt;</th><th scope=col>&lt;dbl&gt;</th><th scope=col>&lt;dbl&gt;</th><th scope=col>&lt;dbl&gt;</th><th scope=col>&lt;dbl&gt;</th></tr>\n",
              "</thead>\n",
              "<tbody>\n",
              "\t<tr><td>A nombre del dueño      </td><td>10305410</td><td>0.01062871</td><td>0.63827436</td><td>0.007254642</td></tr>\n",
              "\t<tr><td>A nombre de otra persona</td><td> 1198244</td><td>0.03009221</td><td>0.07421426</td><td>0.029205300</td></tr>\n",
              "\t<tr><td>No tiene escrituras     </td><td> 4472385</td><td>0.01937736</td><td>0.27700098</td><td>0.016711877</td></tr>\n",
              "\t<tr><td>\tNo sabe               </td><td>  169698</td><td>0.08053758</td><td>0.01051039</td><td>0.080280071</td></tr>\n",
              "\t<tr><td>Total                   </td><td>16145737</td><td>0.14063586</td><td>1.00000000</td><td>0.133451890</td></tr>\n",
              "</tbody>\n",
              "</table>\n"
            ],
            "text/markdown": "\nA tabyl: 5 × 5\n\n| escrituras &lt;chr&gt; | viviendas &lt;dbl&gt; | viviendas_cv &lt;dbl&gt; | pct &lt;dbl&gt; | pct_cv &lt;dbl&gt; |\n|---|---|---|---|---|\n| A nombre del dueño       | 10305410 | 0.01062871 | 0.63827436 | 0.007254642 |\n| A nombre de otra persona |  1198244 | 0.03009221 | 0.07421426 | 0.029205300 |\n| No tiene escrituras      |  4472385 | 0.01937736 | 0.27700098 | 0.016711877 |\n| \tNo sabe                |   169698 | 0.08053758 | 0.01051039 | 0.080280071 |\n| Total                    | 16145737 | 0.14063586 | 1.00000000 | 0.133451890 |\n\n",
            "text/latex": "A tabyl: 5 × 5\n\\begin{tabular}{lllll}\n escrituras & viviendas & viviendas\\_cv & pct & pct\\_cv\\\\\n <chr> & <dbl> & <dbl> & <dbl> & <dbl>\\\\\n\\hline\n\t A nombre del dueño       & 10305410 & 0.01062871 & 0.63827436 & 0.007254642\\\\\n\t A nombre de otra persona &  1198244 & 0.03009221 & 0.07421426 & 0.029205300\\\\\n\t No tiene escrituras      &  4472385 & 0.01937736 & 0.27700098 & 0.016711877\\\\\n\t \tNo sabe                &   169698 & 0.08053758 & 0.01051039 & 0.080280071\\\\\n\t Total                    & 16145737 & 0.14063586 & 1.00000000 & 0.133451890\\\\\n\\end{tabular}\n",
            "text/plain": [
              "  escrituras               viviendas viviendas_cv pct        pct_cv     \n",
              "1 A nombre del dueño       10305410  0.01062871   0.63827436 0.007254642\n",
              "2 A nombre de otra persona  1198244  0.03009221   0.07421426 0.029205300\n",
              "3 No tiene escrituras       4472385  0.01937736   0.27700098 0.016711877\n",
              "4 \\tNo sabe                  169698  0.08053758   0.01051039 0.080280071\n",
              "5 Total                    16145737  0.14063586   1.00000000 0.133451890"
            ]
          },
          "metadata": {}
        }
      ],
      "source": [
        "# ------------------------------------------------ 14. Porcentaje de viviendas particulares habitadas autoproducidas por tenencia de escrituras\n",
        " pct_vivi_escrit <- dm %>%\n",
        "  filter(vivi_autoprod == \"Sí\") %>%\n",
        "  group_by(escrituras) %>%\n",
        "  summarise(\n",
        "  viviendas = survey_total(vartype = \"cv\", level = 0.95),\n",
        "  pct = survey_prop(vartype = \"cv\")) %>%\n",
        "  mutate(\n",
        "    escrituras = case_when(\n",
        "      escrituras == 1 ~ \"A nombre del dueño\",\n",
        "      escrituras == 2 ~ \"A nombre de otra persona\",\n",
        "      escrituras == 3 ~ \"No tiene escrituras\",\n",
        "      escrituras == 4 ~ \"\tNo sabe\",\n",
        "      TRUE ~ \"No especificado\"\n",
        "    )\n",
        "  ) %>%\n",
        "  janitor::adorn_totals()\n",
        "\n",
        "pct_vivi_escrit"
      ]
    },
    {
      "cell_type": "code",
      "execution_count": null,
      "metadata": {
        "colab": {
          "base_uri": "https://localhost:8080/",
          "height": 317
        },
        "id": "rwLO3z-StqIe",
        "outputId": "ddb15597-a7a3-4128-cbb0-052f59530a77"
      },
      "outputs": [
        {
          "output_type": "display_data",
          "data": {
            "text/html": [
              "<table class=\"dataframe\">\n",
              "<caption>A tabyl: 7 × 5</caption>\n",
              "<thead>\n",
              "\t<tr><th scope=col>catego</th><th scope=col>viviendas</th><th scope=col>viviendas_cv</th><th scope=col>pct</th><th scope=col>pct_cv</th></tr>\n",
              "\t<tr><th scope=col>&lt;fct&gt;</th><th scope=col>&lt;dbl&gt;</th><th scope=col>&lt;dbl&gt;</th><th scope=col>&lt;dbl&gt;</th><th scope=col>&lt;dbl&gt;</th></tr>\n",
              "</thead>\n",
              "<tbody>\n",
              "\t<tr><td>1 a 2 cuartos              </td><td> 2648633</td><td>0.01960075</td><td>0.164045345</td><td>0.018185884</td></tr>\n",
              "\t<tr><td>Mayor a 10                 </td><td>   26408</td><td>0.18840513</td><td>0.001635602</td><td>0.188331012</td></tr>\n",
              "\t<tr><td>Mayor a 2 hasta 4 cuartos  </td><td> 8566654</td><td>0.01076852</td><td>0.530583026</td><td>0.007010052</td></tr>\n",
              "\t<tr><td>Mayor a 4 hasta 6 cuartos  </td><td> 4040650</td><td>0.01609648</td><td>0.250261106</td><td>0.013439173</td></tr>\n",
              "\t<tr><td>Mayor a 6 hasta 8 cuartos  </td><td>  725617</td><td>0.03765868</td><td>0.044941708</td><td>0.036167762</td></tr>\n",
              "\t<tr><td>Mayor a 8  hasta 10 cuartos</td><td>  137775</td><td>0.08548902</td><td>0.008533212</td><td>0.085049600</td></tr>\n",
              "\t<tr><td>Total                      </td><td>16145737</td><td>0.35801858</td><td>1.000000000</td><td>0.348183483</td></tr>\n",
              "</tbody>\n",
              "</table>\n"
            ],
            "text/markdown": "\nA tabyl: 7 × 5\n\n| catego &lt;fct&gt; | viviendas &lt;dbl&gt; | viviendas_cv &lt;dbl&gt; | pct &lt;dbl&gt; | pct_cv &lt;dbl&gt; |\n|---|---|---|---|---|\n| 1 a 2 cuartos               |  2648633 | 0.01960075 | 0.164045345 | 0.018185884 |\n| Mayor a 10                  |    26408 | 0.18840513 | 0.001635602 | 0.188331012 |\n| Mayor a 2 hasta 4 cuartos   |  8566654 | 0.01076852 | 0.530583026 | 0.007010052 |\n| Mayor a 4 hasta 6 cuartos   |  4040650 | 0.01609648 | 0.250261106 | 0.013439173 |\n| Mayor a 6 hasta 8 cuartos   |   725617 | 0.03765868 | 0.044941708 | 0.036167762 |\n| Mayor a 8  hasta 10 cuartos |   137775 | 0.08548902 | 0.008533212 | 0.085049600 |\n| Total                       | 16145737 | 0.35801858 | 1.000000000 | 0.348183483 |\n\n",
            "text/latex": "A tabyl: 7 × 5\n\\begin{tabular}{lllll}\n catego & viviendas & viviendas\\_cv & pct & pct\\_cv\\\\\n <fct> & <dbl> & <dbl> & <dbl> & <dbl>\\\\\n\\hline\n\t 1 a 2 cuartos               &  2648633 & 0.01960075 & 0.164045345 & 0.018185884\\\\\n\t Mayor a 10                  &    26408 & 0.18840513 & 0.001635602 & 0.188331012\\\\\n\t Mayor a 2 hasta 4 cuartos   &  8566654 & 0.01076852 & 0.530583026 & 0.007010052\\\\\n\t Mayor a 4 hasta 6 cuartos   &  4040650 & 0.01609648 & 0.250261106 & 0.013439173\\\\\n\t Mayor a 6 hasta 8 cuartos   &   725617 & 0.03765868 & 0.044941708 & 0.036167762\\\\\n\t Mayor a 8  hasta 10 cuartos &   137775 & 0.08548902 & 0.008533212 & 0.085049600\\\\\n\t Total                       & 16145737 & 0.35801858 & 1.000000000 & 0.348183483\\\\\n\\end{tabular}\n",
            "text/plain": [
              "  catego                      viviendas viviendas_cv pct         pct_cv     \n",
              "1 1 a 2 cuartos                2648633  0.01960075   0.164045345 0.018185884\n",
              "2 Mayor a 10                     26408  0.18840513   0.001635602 0.188331012\n",
              "3 Mayor a 2 hasta 4 cuartos    8566654  0.01076852   0.530583026 0.007010052\n",
              "4 Mayor a 4 hasta 6 cuartos    4040650  0.01609648   0.250261106 0.013439173\n",
              "5 Mayor a 6 hasta 8 cuartos     725617  0.03765868   0.044941708 0.036167762\n",
              "6 Mayor a 8  hasta 10 cuartos   137775  0.08548902   0.008533212 0.085049600\n",
              "7 Total                       16145737  0.35801858   1.000000000 0.348183483"
            ]
          },
          "metadata": {}
        }
      ],
      "source": [
        "# ------------------------------------------------ 15. Porcentaje de viviendas particulares habitadas autoproducidas por número de cuartos.\n",
        "pct_vivi_ncuartos <- dm %>%\n",
        "    filter(vivi_autoprod==\"Sí\") %>%\n",
        "    # Crear variables de número de cuartos\n",
        "    mutate(catego = case_when(num_cuarto >= 1 & num_cuarto <= 2 ~ \"1 a 2 cuartos\",\n",
        "                              num_cuarto > 2 & num_cuarto <=4 ~ \"Mayor a 2 hasta 4 cuartos\",\n",
        "                              num_cuarto >4 & num_cuarto <= 6 ~ \"Mayor a 4 hasta 6 cuartos\",\n",
        "                              num_cuarto >6 & num_cuarto <= 8 ~ \"Mayor a 6 hasta 8 cuartos\",\n",
        "                              num_cuarto >8 & num_cuarto <= 10 ~ \"Mayor a 8  hasta 10 cuartos\",\n",
        "                              num_cuarto > 10 ~ \"Mayor a 10\",\n",
        "                              TRUE ~ \"No especificado\")) %>%\n",
        "    group_by(catego) %>%\n",
        "    summarise(\n",
        "    viviendas = survey_total(vartype = \"cv\"),\n",
        "    pct=survey_prop(vartype=\"cv\")) %>%\n",
        "    # Calcular porcentaje\n",
        "    mutate(# Ordenar categorías\n",
        "           catego = fct_relevel(catego, \"1 a 2 cuartos\",\n",
        "                                \"Mayor a 2 hasta 4 cuartos\",\n",
        "                                \"Mayor a 4 hasta 6 cuartos\",\n",
        "                                \"Mayor a 6 hasta 8 cuartos\",\n",
        "                                \"Mayor a 8  hasta 10 cuartos\",\n",
        "                                \"Mayor a 10\")) %>%\n",
        "    janitor::adorn_totals()\n",
        "\n",
        "  pct_vivi_ncuartos\n"
      ]
    },
    {
      "cell_type": "code",
      "execution_count": null,
      "metadata": {
        "colab": {
          "base_uri": "https://localhost:8080/",
          "height": 223
        },
        "id": "m85Zy2nOttj8",
        "outputId": "e48d92fc-8dfa-425f-d6c7-41c0aaa7ba0b"
      },
      "outputs": [
        {
          "output_type": "display_data",
          "data": {
            "text/html": [
              "<table class=\"dataframe\">\n",
              "<caption>A tabyl: 4 × 5</caption>\n",
              "<thead>\n",
              "\t<tr><th scope=col>sexo_jefe</th><th scope=col>viviendas</th><th scope=col>viviendas_cv</th><th scope=col>pct</th><th scope=col>pct_cv</th></tr>\n",
              "\t<tr><th scope=col>&lt;chr&gt;</th><th scope=col>&lt;dbl&gt;</th><th scope=col>&lt;dbl&gt;</th><th scope=col>&lt;dbl&gt;</th><th scope=col>&lt;dbl&gt;</th></tr>\n",
              "</thead>\n",
              "<tbody>\n",
              "\t<tr><td>Hombre         </td><td> 9124586</td><td>0.01146122</td><td>0.5651390</td><td>0.007016231</td></tr>\n",
              "\t<tr><td>Mujer          </td><td> 3897040</td><td>0.01541227</td><td>0.2413665</td><td>0.013600609</td></tr>\n",
              "\t<tr><td>No especificado</td><td> 3124111</td><td>0.01784400</td><td>0.1934945</td><td>0.016269157</td></tr>\n",
              "\t<tr><td>Total          </td><td>16145737</td><td>0.04471749</td><td>1.0000000</td><td>0.036885996</td></tr>\n",
              "</tbody>\n",
              "</table>\n"
            ],
            "text/markdown": "\nA tabyl: 4 × 5\n\n| sexo_jefe &lt;chr&gt; | viviendas &lt;dbl&gt; | viviendas_cv &lt;dbl&gt; | pct &lt;dbl&gt; | pct_cv &lt;dbl&gt; |\n|---|---|---|---|---|\n| Hombre          |  9124586 | 0.01146122 | 0.5651390 | 0.007016231 |\n| Mujer           |  3897040 | 0.01541227 | 0.2413665 | 0.013600609 |\n| No especificado |  3124111 | 0.01784400 | 0.1934945 | 0.016269157 |\n| Total           | 16145737 | 0.04471749 | 1.0000000 | 0.036885996 |\n\n",
            "text/latex": "A tabyl: 4 × 5\n\\begin{tabular}{lllll}\n sexo\\_jefe & viviendas & viviendas\\_cv & pct & pct\\_cv\\\\\n <chr> & <dbl> & <dbl> & <dbl> & <dbl>\\\\\n\\hline\n\t Hombre          &  9124586 & 0.01146122 & 0.5651390 & 0.007016231\\\\\n\t Mujer           &  3897040 & 0.01541227 & 0.2413665 & 0.013600609\\\\\n\t No especificado &  3124111 & 0.01784400 & 0.1934945 & 0.016269157\\\\\n\t Total           & 16145737 & 0.04471749 & 1.0000000 & 0.036885996\\\\\n\\end{tabular}\n",
            "text/plain": [
              "  sexo_jefe       viviendas viviendas_cv pct       pct_cv     \n",
              "1 Hombre           9124586  0.01146122   0.5651390 0.007016231\n",
              "2 Mujer            3897040  0.01541227   0.2413665 0.013600609\n",
              "3 No especificado  3124111  0.01784400   0.1934945 0.016269157\n",
              "4 Total           16145737  0.04471749   1.0000000 0.036885996"
            ]
          },
          "metadata": {}
        }
      ],
      "source": [
        "# ------------------------------------------------ 16. Porcentaje de viviendas particulares habitadas autoproducidas por sexo del jefe del hogar\n",
        "pct_vivi_sjefe <- dm %>%\n",
        "  filter(vivi_autoprod == \"Sí\") %>%\n",
        "  group_by(sexo_jefe) %>%\n",
        "  summarise(\n",
        "  viviendas = survey_total(vartype = c(\"cv\"), level = 0.95),\n",
        "    pct=survey_prop(vartype=\"cv\")) %>%\n",
        "  mutate(\n",
        "    sexo_jefe = case_when(\n",
        "      sexo_jefe == 1 ~ \"Hombre\",\n",
        "      sexo_jefe == 2 ~ \"Mujer\",\n",
        "      TRUE ~ \"No especificado\"\n",
        "    )\n",
        "  ) %>%\n",
        "  janitor::adorn_totals()\n",
        "\n",
        "pct_vivi_sjefe"
      ]
    },
    {
      "cell_type": "code",
      "source": [
        "# ------------------------------------------------ 17. Total de hogares en viviendas particulares habitadas autoproducidas por decil de ingreso\n",
        "tot_hog_idecil <- dm %>%\n",
        "  mutate(decil_ingreso = ntile(ing_cor, 10)) %>%\n",
        "  group_by(decil_ingreso) %>%\n",
        "  summarise(\n",
        "  hogares = survey_total(tot_hog, vartype = \"cv\", level = 0.95)) %>%\n",
        "  janitor::adorn_totals()\n",
        "\n",
        "tot_hog_idecil"
      ],
      "metadata": {
        "colab": {
          "base_uri": "https://localhost:8080/",
          "height": 474
        },
        "id": "-FpOibMHDLCN",
        "outputId": "590147b5-996c-466b-c883-37b1fee8dfce"
      },
      "execution_count": null,
      "outputs": [
        {
          "output_type": "display_data",
          "data": {
            "text/html": [
              "<table class=\"dataframe\">\n",
              "<caption>A tabyl: 12 × 3</caption>\n",
              "<thead>\n",
              "\t<tr><th scope=col>decil_ingreso</th><th scope=col>hogares</th><th scope=col>hogares_cv</th></tr>\n",
              "\t<tr><th scope=col>&lt;chr&gt;</th><th scope=col>&lt;dbl&gt;</th><th scope=col>&lt;dbl&gt;</th></tr>\n",
              "</thead>\n",
              "<tbody>\n",
              "\t<tr><td>1    </td><td> 2497603</td><td>0.019962561</td></tr>\n",
              "\t<tr><td>2    </td><td> 2722542</td><td>0.019354318</td></tr>\n",
              "\t<tr><td>3    </td><td> 2773985</td><td>0.017405682</td></tr>\n",
              "\t<tr><td>4    </td><td> 2810996</td><td>0.017877800</td></tr>\n",
              "\t<tr><td>5    </td><td> 2896341</td><td>0.018274966</td></tr>\n",
              "\t<tr><td>6    </td><td> 2869695</td><td>0.017405821</td></tr>\n",
              "\t<tr><td>7    </td><td> 2939945</td><td>0.017032484</td></tr>\n",
              "\t<tr><td>8    </td><td> 2986544</td><td>0.017055312</td></tr>\n",
              "\t<tr><td>9    </td><td> 2951730</td><td>0.018060456</td></tr>\n",
              "\t<tr><td>10   </td><td> 3111850</td><td>0.020171694</td></tr>\n",
              "\t<tr><td>NA   </td><td> 8998892</td><td>0.006337066</td></tr>\n",
              "\t<tr><td>Total</td><td>37560123</td><td>0.188938161</td></tr>\n",
              "</tbody>\n",
              "</table>\n"
            ],
            "text/markdown": "\nA tabyl: 12 × 3\n\n| decil_ingreso &lt;chr&gt; | hogares &lt;dbl&gt; | hogares_cv &lt;dbl&gt; |\n|---|---|---|\n| 1     |  2497603 | 0.019962561 |\n| 2     |  2722542 | 0.019354318 |\n| 3     |  2773985 | 0.017405682 |\n| 4     |  2810996 | 0.017877800 |\n| 5     |  2896341 | 0.018274966 |\n| 6     |  2869695 | 0.017405821 |\n| 7     |  2939945 | 0.017032484 |\n| 8     |  2986544 | 0.017055312 |\n| 9     |  2951730 | 0.018060456 |\n| 10    |  3111850 | 0.020171694 |\n| NA    |  8998892 | 0.006337066 |\n| Total | 37560123 | 0.188938161 |\n\n",
            "text/latex": "A tabyl: 12 × 3\n\\begin{tabular}{lll}\n decil\\_ingreso & hogares & hogares\\_cv\\\\\n <chr> & <dbl> & <dbl>\\\\\n\\hline\n\t 1     &  2497603 & 0.019962561\\\\\n\t 2     &  2722542 & 0.019354318\\\\\n\t 3     &  2773985 & 0.017405682\\\\\n\t 4     &  2810996 & 0.017877800\\\\\n\t 5     &  2896341 & 0.018274966\\\\\n\t 6     &  2869695 & 0.017405821\\\\\n\t 7     &  2939945 & 0.017032484\\\\\n\t 8     &  2986544 & 0.017055312\\\\\n\t 9     &  2951730 & 0.018060456\\\\\n\t 10    &  3111850 & 0.020171694\\\\\n\t NA    &  8998892 & 0.006337066\\\\\n\t Total & 37560123 & 0.188938161\\\\\n\\end{tabular}\n",
            "text/plain": [
              "   decil_ingreso hogares  hogares_cv \n",
              "1  1              2497603 0.019962561\n",
              "2  2              2722542 0.019354318\n",
              "3  3              2773985 0.017405682\n",
              "4  4              2810996 0.017877800\n",
              "5  5              2896341 0.018274966\n",
              "6  6              2869695 0.017405821\n",
              "7  7              2939945 0.017032484\n",
              "8  8              2986544 0.017055312\n",
              "9  9              2951730 0.018060456\n",
              "10 10             3111850 0.020171694\n",
              "11 NA             8998892 0.006337066\n",
              "12 Total         37560123 0.188938161"
            ]
          },
          "metadata": {}
        }
      ]
    },
    {
      "cell_type": "code",
      "execution_count": null,
      "metadata": {
        "colab": {
          "base_uri": "https://localhost:8080/",
          "height": 317
        },
        "id": "JrOsdq98t1BF",
        "outputId": "711e4c2a-6dd7-4d1e-ca0c-8c893f3ca36f"
      },
      "outputs": [
        {
          "output_type": "display_data",
          "data": {
            "text/html": [
              "<table class=\"dataframe\">\n",
              "<caption>A tabyl: 7 × 5</caption>\n",
              "<thead>\n",
              "\t<tr><th scope=col>clase_hog</th><th scope=col>viviendas</th><th scope=col>viviendas_cv</th><th scope=col>pct</th><th scope=col>pct_cv</th></tr>\n",
              "\t<tr><th scope=col>&lt;chr&gt;</th><th scope=col>&lt;dbl&gt;</th><th scope=col>&lt;dbl&gt;</th><th scope=col>&lt;dbl&gt;</th><th scope=col>&lt;dbl&gt;</th></tr>\n",
              "</thead>\n",
              "<tbody>\n",
              "\t<tr><td>Unipersonal    </td><td> 3560747</td><td>0.015912462</td><td>  9.4218647</td><td> 1.5615178</td></tr>\n",
              "\t<tr><td>Nuclear        </td><td>17589436</td><td>0.006535279</td><td> 46.7846854</td><td> 0.5134456</td></tr>\n",
              "\t<tr><td>Ampliado       </td><td> 7175994</td><td>0.010773528</td><td> 19.0609337</td><td> 1.0177954</td></tr>\n",
              "\t<tr><td>Compuesto      </td><td>  158621</td><td>0.068668700</td><td>  0.4261315</td><td> 6.8761344</td></tr>\n",
              "\t<tr><td>Corresidente   </td><td>   76433</td><td>0.099038358</td><td>  0.2062059</td><td> 9.9166610</td></tr>\n",
              "\t<tr><td>No especificado</td><td> 8998892</td><td>0.006337066</td><td> 24.1001788</td><td> 0.5621228</td></tr>\n",
              "\t<tr><td>Total          </td><td>37560123</td><td>0.207265393</td><td>100.0000000</td><td>20.4476769</td></tr>\n",
              "</tbody>\n",
              "</table>\n"
            ],
            "text/markdown": "\nA tabyl: 7 × 5\n\n| clase_hog &lt;chr&gt; | viviendas &lt;dbl&gt; | viviendas_cv &lt;dbl&gt; | pct &lt;dbl&gt; | pct_cv &lt;dbl&gt; |\n|---|---|---|---|---|\n| Unipersonal     |  3560747 | 0.015912462 |   9.4218647 |  1.5615178 |\n| Nuclear         | 17589436 | 0.006535279 |  46.7846854 |  0.5134456 |\n| Ampliado        |  7175994 | 0.010773528 |  19.0609337 |  1.0177954 |\n| Compuesto       |   158621 | 0.068668700 |   0.4261315 |  6.8761344 |\n| Corresidente    |    76433 | 0.099038358 |   0.2062059 |  9.9166610 |\n| No especificado |  8998892 | 0.006337066 |  24.1001788 |  0.5621228 |\n| Total           | 37560123 | 0.207265393 | 100.0000000 | 20.4476769 |\n\n",
            "text/latex": "A tabyl: 7 × 5\n\\begin{tabular}{lllll}\n clase\\_hog & viviendas & viviendas\\_cv & pct & pct\\_cv\\\\\n <chr> & <dbl> & <dbl> & <dbl> & <dbl>\\\\\n\\hline\n\t Unipersonal     &  3560747 & 0.015912462 &   9.4218647 &  1.5615178\\\\\n\t Nuclear         & 17589436 & 0.006535279 &  46.7846854 &  0.5134456\\\\\n\t Ampliado        &  7175994 & 0.010773528 &  19.0609337 &  1.0177954\\\\\n\t Compuesto       &   158621 & 0.068668700 &   0.4261315 &  6.8761344\\\\\n\t Corresidente    &    76433 & 0.099038358 &   0.2062059 &  9.9166610\\\\\n\t No especificado &  8998892 & 0.006337066 &  24.1001788 &  0.5621228\\\\\n\t Total           & 37560123 & 0.207265393 & 100.0000000 & 20.4476769\\\\\n\\end{tabular}\n",
            "text/plain": [
              "  clase_hog       viviendas viviendas_cv pct         pct_cv    \n",
              "1 Unipersonal      3560747  0.015912462    9.4218647  1.5615178\n",
              "2 Nuclear         17589436  0.006535279   46.7846854  0.5134456\n",
              "3 Ampliado         7175994  0.010773528   19.0609337  1.0177954\n",
              "4 Compuesto         158621  0.068668700    0.4261315  6.8761344\n",
              "5 Corresidente       76433  0.099038358    0.2062059  9.9166610\n",
              "6 No especificado  8998892  0.006337066   24.1001788  0.5621228\n",
              "7 Total           37560123  0.207265393  100.0000000 20.4476769"
            ]
          },
          "metadata": {}
        }
      ],
      "source": [
        "# ------------------------------------------------ 18. Porcentaje de clase de hogar en viviendas particulares habitadas autoproducidas\n",
        "pct_chog_autoprod <- dm %>%\n",
        "  group_by(clase_hog) %>%\n",
        "  summarise(\n",
        "  viviendas = survey_total(tot_hog, vartype = c(\"cv\"), level = 0.95),\n",
        "    pct=survey_prop(vartype=\"cv\")*100) %>%\n",
        "  mutate(\n",
        "    clase_hog = case_when(\n",
        "      clase_hog == 1 ~ \"Unipersonal\",\n",
        "      clase_hog == 2 ~ \"Nuclear\",\n",
        "      clase_hog == 3 ~ \"Ampliado\",\n",
        "      clase_hog == 4 ~ \"Compuesto\",\n",
        "      clase_hog == 5 ~ \"Corresidente\",\n",
        "      TRUE ~ \"No especificado\"\n",
        "    )\n",
        "  ) %>%\n",
        "  janitor::adorn_totals()\n",
        "pct_chog_autoprod"
      ]
    },
    {
      "cell_type": "code",
      "source": [
        "# ------------------------------------------------ 19. Total de personas en pobreza dentro de viviendas particulares habitadas autoproducidas\n",
        "tot_pers_pobreza <- dm %>%\n",
        "  group_by(pobreza) %>%\n",
        "  summarise(personas = survey_total(tot_resid_autoprod, vartype = c(\"cv\"), level = 0.95))%>%\n",
        "  mutate(\n",
        "    pobreza = case_when(\n",
        "      pobreza == 0 ~ \"No pobre\",\n",
        "      pobreza == 1 ~ \"Pobre\",\n",
        "      TRUE ~ \"No especificado\"\n",
        "    )\n",
        "  ) %>%\n",
        "  janitor::adorn_totals()\n",
        "\n",
        "tot_pers_pobreza"
      ],
      "metadata": {
        "colab": {
          "base_uri": "https://localhost:8080/",
          "height": 223
        },
        "id": "c-KILawkuKbm",
        "outputId": "a715b451-75d7-4cfa-983f-a57e186b155b"
      },
      "execution_count": null,
      "outputs": [
        {
          "output_type": "display_data",
          "data": {
            "text/html": [
              "<table class=\"dataframe\">\n",
              "<caption>A tabyl: 4 × 3</caption>\n",
              "<thead>\n",
              "\t<tr><th scope=col>pobreza</th><th scope=col>personas</th><th scope=col>personas_cv</th></tr>\n",
              "\t<tr><th scope=col>&lt;chr&gt;</th><th scope=col>&lt;dbl&gt;</th><th scope=col>&lt;dbl&gt;</th></tr>\n",
              "</thead>\n",
              "<tbody>\n",
              "\t<tr><td>No pobre       </td><td>27503217</td><td>0.01397825</td></tr>\n",
              "\t<tr><td>Pobre          </td><td>21368957</td><td>0.01722923</td></tr>\n",
              "\t<tr><td>No especificado</td><td>11554601</td><td>0.02237701</td></tr>\n",
              "\t<tr><td>Total          </td><td>60426775</td><td>0.05358450</td></tr>\n",
              "</tbody>\n",
              "</table>\n"
            ],
            "text/markdown": "\nA tabyl: 4 × 3\n\n| pobreza &lt;chr&gt; | personas &lt;dbl&gt; | personas_cv &lt;dbl&gt; |\n|---|---|---|\n| No pobre        | 27503217 | 0.01397825 |\n| Pobre           | 21368957 | 0.01722923 |\n| No especificado | 11554601 | 0.02237701 |\n| Total           | 60426775 | 0.05358450 |\n\n",
            "text/latex": "A tabyl: 4 × 3\n\\begin{tabular}{lll}\n pobreza & personas & personas\\_cv\\\\\n <chr> & <dbl> & <dbl>\\\\\n\\hline\n\t No pobre        & 27503217 & 0.01397825\\\\\n\t Pobre           & 21368957 & 0.01722923\\\\\n\t No especificado & 11554601 & 0.02237701\\\\\n\t Total           & 60426775 & 0.05358450\\\\\n\\end{tabular}\n",
            "text/plain": [
              "  pobreza         personas personas_cv\n",
              "1 No pobre        27503217 0.01397825 \n",
              "2 Pobre           21368957 0.01722923 \n",
              "3 No especificado 11554601 0.02237701 \n",
              "4 Total           60426775 0.05358450 "
            ]
          },
          "metadata": {}
        }
      ]
    },
    {
      "cell_type": "code",
      "execution_count": null,
      "metadata": {
        "colab": {
          "base_uri": "https://localhost:8080/",
          "height": 223
        },
        "id": "KHi4YfORt9uS",
        "outputId": "3813373b-7fbb-457e-f051-1e3844ede2b0"
      },
      "outputs": [
        {
          "output_type": "display_data",
          "data": {
            "text/html": [
              "<table class=\"dataframe\">\n",
              "<caption>A tabyl: 4 × 3</caption>\n",
              "<thead>\n",
              "\t<tr><th scope=col>pobreza</th><th scope=col>personas</th><th scope=col>personas_cv</th></tr>\n",
              "\t<tr><th scope=col>&lt;chr&gt;</th><th scope=col>&lt;dbl&gt;</th><th scope=col>&lt;dbl&gt;</th></tr>\n",
              "</thead>\n",
              "<tbody>\n",
              "\t<tr><td>No pobre       </td><td>27503217</td><td>0.01397825</td></tr>\n",
              "\t<tr><td>Pobre          </td><td>21368957</td><td>0.01722923</td></tr>\n",
              "\t<tr><td>No especificado</td><td>11554601</td><td>0.02237701</td></tr>\n",
              "\t<tr><td>Total          </td><td>60426775</td><td>0.05358450</td></tr>\n",
              "</tbody>\n",
              "</table>\n"
            ],
            "text/markdown": "\nA tabyl: 4 × 3\n\n| pobreza &lt;chr&gt; | personas &lt;dbl&gt; | personas_cv &lt;dbl&gt; |\n|---|---|---|\n| No pobre        | 27503217 | 0.01397825 |\n| Pobre           | 21368957 | 0.01722923 |\n| No especificado | 11554601 | 0.02237701 |\n| Total           | 60426775 | 0.05358450 |\n\n",
            "text/latex": "A tabyl: 4 × 3\n\\begin{tabular}{lll}\n pobreza & personas & personas\\_cv\\\\\n <chr> & <dbl> & <dbl>\\\\\n\\hline\n\t No pobre        & 27503217 & 0.01397825\\\\\n\t Pobre           & 21368957 & 0.01722923\\\\\n\t No especificado & 11554601 & 0.02237701\\\\\n\t Total           & 60426775 & 0.05358450\\\\\n\\end{tabular}\n",
            "text/plain": [
              "  pobreza         personas personas_cv\n",
              "1 No pobre        27503217 0.01397825 \n",
              "2 Pobre           21368957 0.01722923 \n",
              "3 No especificado 11554601 0.02237701 \n",
              "4 Total           60426775 0.05358450 "
            ]
          },
          "metadata": {}
        }
      ],
      "source": [
        "# ------------------------------------------------ 20. Total de personas en pobreza extrema dentro de viviendas particulares habitadas autoproducidas\n",
        "tot_pers_pobrezae <- dm %>%\n",
        "  group_by(pobreza_e) %>%\n",
        "  summarise(\n",
        "  viviendas = survey_total(tot_resid_autoprod, vartype = c(\"cv\"), level = 0.95)\n",
        "  )%>%\n",
        "  mutate(\n",
        "    pobreza_e = case_when(\n",
        "      pobreza_e == 0 ~ \"No pobre extremo\",\n",
        "      pobreza_e == 1 ~ \"Pobre extremo\",\n",
        "      TRUE ~ \"No especificado\"\n",
        "    )\n",
        "  ) %>%\n",
        "  janitor::adorn_totals()\n",
        "\n",
        "tot_pers_pobreza"
      ]
    },
    {
      "cell_type": "code",
      "source": [
        "# Crear una lista con los nombres de las hojas y los data frames correspondientes\n",
        "indica_resu <- list(\n",
        "  'tot_vivi' = tot_vivi,\n",
        "  'tot_vivi_nom_ent' = tot_vivi_nom_ent,\n",
        "  'tot_vivi_rezago' = tot_vivi_rezago,\n",
        "  'tot_resid_autoprod' = tot_resid_autoprod,\n",
        "  'tot_resid_autoprod_rezago' = tot_resid_autoprod_rezago,\n",
        "  'pct_vivi_autoprod_est' = pct_vivi_autoprod_est,\n",
        "  'pct_vivi_autoprod_loc' = pct_vivi_autoprod_loc,\n",
        "  'pct_vivi_pagos' = pct_vivi_pagos,\n",
        "  'pct_vivi_serv' = pct_vivi_serv,\n",
        "  'tot_vivi_hac' = tot_vivi_hac,\n",
        "  'tot_vivi_ant' = tot_vivi_ant,\n",
        "  'pct_vivi_cdorm' = pct_vivi_cdorm,\n",
        "  'pct_vivi_tipofin' = pct_vivi_tipofin,\n",
        "  'pct_vivi_escrit' = pct_vivi_escrit,\n",
        "  'pct_vivi_ncuartos' = pct_vivi_ncuartos,\n",
        "  'pct_vivi_sjefe' = pct_vivi_sjefe,\n",
        "  'tot_hog_idecil' = tot_hog_idecil,\n",
        "  'pct_chog_autoprod' = pct_chog_autoprod,\n",
        "  'tot_pers_pobreza' = tot_pers_pobreza,\n",
        "  'tot_pers_pobrezae' = tot_pers_pobrezae\n",
        ")\n",
        "\n",
        "# Escribir cada data frame en una hoja separada en el mismo archivo Excel\n",
        "openxlsx::write.xlsx(indica_resu, file = 'indica_autoprod.xlsx')\n"
      ],
      "metadata": {
        "id": "BJwlKOVTPN2d"
      },
      "execution_count": null,
      "outputs": []
    },
    {
      "cell_type": "markdown",
      "source": [
        "#### Nombres de cada página con resultado\n",
        "\n",
        "**tot_vivi** - 1. Total de viviendas particulares habitadas autoproducidas\n",
        "\n",
        "**tot_vivi_nom_ent** - 2. Total de viviendas particulares habitadas autoproducidas por entidad federativa\n",
        "\n",
        "**tot_vivi_rezago** - 3. Total de viviendas particulares habitadas en rezago habitacional y autoproducidas\n",
        "\n",
        "**tot_resid_autoprod** - 4. Total de residentes de viviendas particulares habitadas autoproducidas\n",
        "\n",
        "**tot_resid_autoprod_rezago** - 5. Total de residentes de viviendas particulares habitadas, autoproducidas y en rezago habitacional\n",
        "\n",
        "**pct_vivi_autoprod_est** -  6. Porcentaje de viviendas particulares habitadas autoproducidas por estrato socioeconómico\n",
        "\n",
        "**pct_vivi_autoprod_loc** - 7. Porcentaje de viviendas particulares habitadas autoproducidas por tamaño de localidad\n",
        "\n",
        "**pct_vivi_pagos**- 8. Porcentaje de viviendas particulares habitadas autoproducidas respecto del total de viviendas propias y en proceso de pago\n",
        "\n",
        "**pct_vivi_serv** - 9. Porcentaje de viviendas particulares habitadas autoproducidas con carencia por servicios básicos en la vivienda\n",
        "\n",
        "**tot_vivi_hac** - 10. Total de viviendas particulares habitadas autoproducidas en condición de hacinamiento\n",
        "\n",
        "**tot_vivi_ant** - 11. Porcentaje de viviendas particulares habitadas autoproducidas por antigüedad de la vivienda\n",
        "\n",
        "**pct_vivi_cdorm** - 12. Porcentaje de viviendas particulares habitadas autoproducidas con cocina dormitorio\n",
        "\n",
        "**pct_vivi_tipofin** - 13. Porcentaje de viviendas particulares habitadas autoproducidas por tipo de financiamiento\n",
        "\n",
        "**pct_vivi_escrit** - 14. Porcentaje de viviendas particulares habitadas autoproducidas por tenencia de escrituras\n",
        "\n",
        "**pct_vivi_ncuartos**  - 15. Porcentaje de viviendas particulares habitadas autoproducidas por número de cuartos.\n",
        "\n",
        "**pct_vivi_sjefe**- 16. Porcentaje de viviendas particulares habitadas autoproducidas por sexo del jefe del hogar\n",
        "\n",
        "**tot_hog_idecil**- 17. Total de hogares en viviendas particulares habitadas autoproducidas por decil de ingreso\n",
        "\n",
        "**pct_chog_autoprod** - 18. Porcentaje de clase de hogar en viviendas particulares habitadas autoproducidas\n",
        "\n",
        "**tot_pers_pobreza** - 19. Total de personas en pobreza dentro de viviendas particulares habitadas autoproducidas\n",
        "\n",
        "**tot_pers_pobrezae** - 20. Total de personas en pobreza extrema dentro de viviendas particulares habitadas autoproducidas\n",
        "\n",
        "\n",
        "\n",
        "\n",
        "\n",
        "\n",
        "\n",
        "\n",
        "\n",
        "\n",
        "\n",
        "\n",
        "\n",
        "\n",
        "\n"
      ],
      "metadata": {
        "id": "Ur9U0Eh9QxuZ"
      }
    }
  ],
  "metadata": {
    "colab": {
      "machine_shape": "hm",
      "provenance": [],
      "include_colab_link": true
    },
    "kernelspec": {
      "display_name": "R",
      "name": "ir"
    },
    "language_info": {
      "name": "R"
    }
  },
  "nbformat": 4,
  "nbformat_minor": 0
}